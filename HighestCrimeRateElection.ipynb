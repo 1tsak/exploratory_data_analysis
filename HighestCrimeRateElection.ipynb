{
 "cells": [
  {
   "cell_type": "code",
   "execution_count": 1,
   "metadata": {},
   "outputs": [],
   "source": [
    "import numpy as np\n",
    "import pandas as pd\n",
    "import matplotlib.pyplot as plt\n",
    "import seaborn as sb\n",
    "\n",
    "%matplotlib inline"
   ]
  },
  {
   "cell_type": "code",
   "execution_count": 2,
   "metadata": {},
   "outputs": [
    {
     "data": {
      "text/html": [
       "<div>\n",
       "<style scoped>\n",
       "    .dataframe tbody tr th:only-of-type {\n",
       "        vertical-align: middle;\n",
       "    }\n",
       "\n",
       "    .dataframe tbody tr th {\n",
       "        vertical-align: top;\n",
       "    }\n",
       "\n",
       "    .dataframe thead th {\n",
       "        text-align: right;\n",
       "    }\n",
       "</style>\n",
       "<table border=\"1\" class=\"dataframe\">\n",
       "  <thead>\n",
       "    <tr style=\"text-align: right;\">\n",
       "      <th></th>\n",
       "      <th>STATE/UT</th>\n",
       "      <th>Year</th>\n",
       "      <th>Murder</th>\n",
       "      <th>Assault on women</th>\n",
       "      <th>Kidnapping and Abduction</th>\n",
       "      <th>Dacoity</th>\n",
       "      <th>Robbery</th>\n",
       "      <th>Arson</th>\n",
       "      <th>Hurt</th>\n",
       "      <th>Prevention of atrocities (POA) Act</th>\n",
       "      <th>Protection of Civil Rights (PCR) Act</th>\n",
       "      <th>Other Crimes Against SCs</th>\n",
       "    </tr>\n",
       "  </thead>\n",
       "  <tbody>\n",
       "    <tr>\n",
       "      <th>0</th>\n",
       "      <td>ANDHRA PRADESH</td>\n",
       "      <td>2001</td>\n",
       "      <td>45</td>\n",
       "      <td>69</td>\n",
       "      <td>22</td>\n",
       "      <td>3</td>\n",
       "      <td>2</td>\n",
       "      <td>6</td>\n",
       "      <td>518</td>\n",
       "      <td>950</td>\n",
       "      <td>312</td>\n",
       "      <td>1006</td>\n",
       "    </tr>\n",
       "    <tr>\n",
       "      <th>1</th>\n",
       "      <td>ANDHRA PRADESH</td>\n",
       "      <td>2002</td>\n",
       "      <td>60</td>\n",
       "      <td>98</td>\n",
       "      <td>18</td>\n",
       "      <td>0</td>\n",
       "      <td>4</td>\n",
       "      <td>12</td>\n",
       "      <td>568</td>\n",
       "      <td>830</td>\n",
       "      <td>459</td>\n",
       "      <td>1336</td>\n",
       "    </tr>\n",
       "    <tr>\n",
       "      <th>2</th>\n",
       "      <td>ANDHRA PRADESH</td>\n",
       "      <td>2003</td>\n",
       "      <td>33</td>\n",
       "      <td>79</td>\n",
       "      <td>27</td>\n",
       "      <td>1</td>\n",
       "      <td>15</td>\n",
       "      <td>4</td>\n",
       "      <td>615</td>\n",
       "      <td>1234</td>\n",
       "      <td>165</td>\n",
       "      <td>1386</td>\n",
       "    </tr>\n",
       "    <tr>\n",
       "      <th>3</th>\n",
       "      <td>ANDHRA PRADESH</td>\n",
       "      <td>2004</td>\n",
       "      <td>39</td>\n",
       "      <td>66</td>\n",
       "      <td>28</td>\n",
       "      <td>0</td>\n",
       "      <td>7</td>\n",
       "      <td>20</td>\n",
       "      <td>474</td>\n",
       "      <td>1319</td>\n",
       "      <td>68</td>\n",
       "      <td>1234</td>\n",
       "    </tr>\n",
       "    <tr>\n",
       "      <th>4</th>\n",
       "      <td>ANDHRA PRADESH</td>\n",
       "      <td>2005</td>\n",
       "      <td>37</td>\n",
       "      <td>74</td>\n",
       "      <td>21</td>\n",
       "      <td>0</td>\n",
       "      <td>0</td>\n",
       "      <td>9</td>\n",
       "      <td>459</td>\n",
       "      <td>1244</td>\n",
       "      <td>61</td>\n",
       "      <td>1212</td>\n",
       "    </tr>\n",
       "  </tbody>\n",
       "</table>\n",
       "</div>"
      ],
      "text/plain": [
       "         STATE/UT  Year  Murder  Assault on women  Kidnapping and Abduction  \\\n",
       "0  ANDHRA PRADESH  2001      45                69                        22   \n",
       "1  ANDHRA PRADESH  2002      60                98                        18   \n",
       "2  ANDHRA PRADESH  2003      33                79                        27   \n",
       "3  ANDHRA PRADESH  2004      39                66                        28   \n",
       "4  ANDHRA PRADESH  2005      37                74                        21   \n",
       "\n",
       "   Dacoity  Robbery  Arson  Hurt  Prevention of atrocities (POA) Act  \\\n",
       "0        3        2      6   518                                 950   \n",
       "1        0        4     12   568                                 830   \n",
       "2        1       15      4   615                                1234   \n",
       "3        0        7     20   474                                1319   \n",
       "4        0        0      9   459                                1244   \n",
       "\n",
       "   Protection of Civil Rights (PCR) Act  Other Crimes Against SCs  \n",
       "0                                   312                      1006  \n",
       "1                                   459                      1336  \n",
       "2                                   165                      1386  \n",
       "3                                    68                      1234  \n",
       "4                                    61                      1212  "
      ]
     },
     "execution_count": 2,
     "metadata": {},
     "output_type": "execute_result"
    }
   ],
   "source": [
    "data = pd.read_csv('data/crime_by_state.csv')\n",
    "data.head()"
   ]
  },
  {
   "cell_type": "markdown",
   "metadata": {},
   "source": [
    "**ELECTION_DATA CLEANING**"
   ]
  },
  {
   "cell_type": "code",
   "execution_count": 3,
   "metadata": {},
   "outputs": [
    {
     "name": "stdout",
     "output_type": "stream",
     "text": [
      "Index(['ANDHRA PRADESH', 'TOTAL (STATES)', 'RAJASTHAN', 'SIKKIM', 'TAMIL NADU',\n",
      "       'TRIPURA', 'UTTAR PRADESH', 'UTTARAKHAND', 'WEST BENGAL',\n",
      "       'A & N ISLANDS', 'ARUNACHAL PRADESH', 'CHANDIGARH', 'D & N HAVELI',\n",
      "       'DAMAN & DIU', 'DELHI', 'LAKSHADWEEP', 'PUDUCHERRY', 'TOTAL (UTs)',\n",
      "       'PUNJAB', 'ODISHA', 'NAGALAND', 'MIZORAM', 'ASSAM', 'BIHAR',\n",
      "       'CHHATTISGARH', 'GOA', 'GUJARAT', 'HARYANA', 'HIMACHAL PRADESH',\n",
      "       'JAMMU & KASHMIR', 'JHARKHAND', 'KARNATAKA', 'KERALA', 'MADHYA PRADESH',\n",
      "       'MAHARASHTRA', 'MANIPUR', 'MEGHALAYA', 'TOTAL (ALL-INDIA)'],\n",
      "      dtype='object')\n"
     ]
    },
    {
     "data": {
      "text/plain": [
       "STATE/UT                                0\n",
       "Year                                    0\n",
       "Murder                                  0\n",
       "Assault on women                        0\n",
       "Kidnapping and Abduction                0\n",
       "Dacoity                                 0\n",
       "Robbery                                 0\n",
       "Arson                                   0\n",
       "Hurt                                    0\n",
       "Prevention of atrocities (POA) Act      0\n",
       "Protection of Civil Rights (PCR) Act    0\n",
       "Other Crimes Against SCs                0\n",
       "dtype: int64"
      ]
     },
     "execution_count": 3,
     "metadata": {},
     "output_type": "execute_result"
    }
   ],
   "source": [
    "gen_order = data['STATE/UT'].value_counts().index\n",
    "print(gen_order)\n",
    "data.isnull().sum()"
   ]
  },
  {
   "cell_type": "markdown",
   "metadata": {},
   "source": [
    "**ELECTION_DATA VISUALISATION**"
   ]
  },
  {
   "cell_type": "code",
   "execution_count": 10,
   "metadata": {},
   "outputs": [
    {
     "data": {
      "text/html": [
       "<div>\n",
       "<style scoped>\n",
       "    .dataframe tbody tr th:only-of-type {\n",
       "        vertical-align: middle;\n",
       "    }\n",
       "\n",
       "    .dataframe tbody tr th {\n",
       "        vertical-align: top;\n",
       "    }\n",
       "\n",
       "    .dataframe thead th {\n",
       "        text-align: right;\n",
       "    }\n",
       "</style>\n",
       "<table border=\"1\" class=\"dataframe\">\n",
       "  <thead>\n",
       "    <tr style=\"text-align: right;\">\n",
       "      <th></th>\n",
       "      <th>STATE/UT</th>\n",
       "      <th>Year</th>\n",
       "      <th>Murder</th>\n",
       "      <th>Assault on women</th>\n",
       "      <th>Kidnapping and Abduction</th>\n",
       "      <th>Dacoity</th>\n",
       "      <th>Robbery</th>\n",
       "      <th>Arson</th>\n",
       "      <th>Hurt</th>\n",
       "      <th>Prevention of atrocities (POA) Act</th>\n",
       "      <th>Protection of Civil Rights (PCR) Act</th>\n",
       "      <th>Other Crimes Against SCs</th>\n",
       "    </tr>\n",
       "  </thead>\n",
       "  <tbody>\n",
       "    <tr>\n",
       "      <th>447</th>\n",
       "      <td>TOTAL (ALL-INDIA)</td>\n",
       "      <td>2004</td>\n",
       "      <td>654</td>\n",
       "      <td>1157</td>\n",
       "      <td>253</td>\n",
       "      <td>26</td>\n",
       "      <td>72</td>\n",
       "      <td>211</td>\n",
       "      <td>3824</td>\n",
       "      <td>8891</td>\n",
       "      <td>364</td>\n",
       "      <td>11435</td>\n",
       "    </tr>\n",
       "    <tr>\n",
       "      <th>452</th>\n",
       "      <td>TOTAL (ALL-INDIA)</td>\n",
       "      <td>2009</td>\n",
       "      <td>629</td>\n",
       "      <td>1350</td>\n",
       "      <td>511</td>\n",
       "      <td>42</td>\n",
       "      <td>67</td>\n",
       "      <td>195</td>\n",
       "      <td>4322</td>\n",
       "      <td>11037</td>\n",
       "      <td>168</td>\n",
       "      <td>15091</td>\n",
       "    </tr>\n",
       "  </tbody>\n",
       "</table>\n",
       "</div>"
      ],
      "text/plain": [
       "              STATE/UT  Year  Murder  Assault on women  \\\n",
       "447  TOTAL (ALL-INDIA)  2004     654              1157   \n",
       "452  TOTAL (ALL-INDIA)  2009     629              1350   \n",
       "\n",
       "     Kidnapping and Abduction  Dacoity  Robbery  Arson  Hurt  \\\n",
       "447                       253       26       72    211  3824   \n",
       "452                       511       42       67    195  4322   \n",
       "\n",
       "     Prevention of atrocities (POA) Act  Protection of Civil Rights (PCR) Act  \\\n",
       "447                                8891                                   364   \n",
       "452                               11037                                   168   \n",
       "\n",
       "     Other Crimes Against SCs  \n",
       "447                     11435  \n",
       "452                     15091  "
      ]
     },
     "execution_count": 10,
     "metadata": {},
     "output_type": "execute_result"
    }
   ],
   "source": [
    "ELECTION_DATA = data[data[\"STATE/UT\"] == \"TOTAL (ALL-INDIA)\"]\n",
    "ELECTION_DATA.isnull().sum()\n",
    "ELECTION_DATA = ELECTION_DATA[(ELECTION_DATA[\"Year\"] == 2004 )| (ELECTION_DATA[\"Year\"] == 2009)]\n",
    "ELECTION_DATA.head()"
   ]
  },
  {
   "cell_type": "code",
   "execution_count": 11,
   "metadata": {},
   "outputs": [
    {
     "data": {
      "text/html": [
       "<div>\n",
       "<style scoped>\n",
       "    .dataframe tbody tr th:only-of-type {\n",
       "        vertical-align: middle;\n",
       "    }\n",
       "\n",
       "    .dataframe tbody tr th {\n",
       "        vertical-align: top;\n",
       "    }\n",
       "\n",
       "    .dataframe thead th {\n",
       "        text-align: right;\n",
       "    }\n",
       "</style>\n",
       "<table border=\"1\" class=\"dataframe\">\n",
       "  <thead>\n",
       "    <tr style=\"text-align: right;\">\n",
       "      <th></th>\n",
       "      <th>STATE/UT</th>\n",
       "      <th>Year</th>\n",
       "      <th>Murder</th>\n",
       "      <th>Assault on women</th>\n",
       "      <th>Kidnapping and Abduction</th>\n",
       "      <th>Dacoity</th>\n",
       "      <th>Robbery</th>\n",
       "      <th>Arson</th>\n",
       "      <th>Hurt</th>\n",
       "      <th>Prevention of atrocities (POA) Act</th>\n",
       "      <th>Protection of Civil Rights (PCR) Act</th>\n",
       "      <th>Other Crimes Against SCs</th>\n",
       "      <th>Total Crimes</th>\n",
       "    </tr>\n",
       "  </thead>\n",
       "  <tbody>\n",
       "    <tr>\n",
       "      <th>447</th>\n",
       "      <td>TOTAL (ALL-INDIA)</td>\n",
       "      <td>2004</td>\n",
       "      <td>654</td>\n",
       "      <td>1157</td>\n",
       "      <td>253</td>\n",
       "      <td>26</td>\n",
       "      <td>72</td>\n",
       "      <td>211</td>\n",
       "      <td>3824</td>\n",
       "      <td>8891</td>\n",
       "      <td>364</td>\n",
       "      <td>11435</td>\n",
       "      <td>26887</td>\n",
       "    </tr>\n",
       "    <tr>\n",
       "      <th>452</th>\n",
       "      <td>TOTAL (ALL-INDIA)</td>\n",
       "      <td>2009</td>\n",
       "      <td>629</td>\n",
       "      <td>1350</td>\n",
       "      <td>511</td>\n",
       "      <td>42</td>\n",
       "      <td>67</td>\n",
       "      <td>195</td>\n",
       "      <td>4322</td>\n",
       "      <td>11037</td>\n",
       "      <td>168</td>\n",
       "      <td>15091</td>\n",
       "      <td>33412</td>\n",
       "    </tr>\n",
       "  </tbody>\n",
       "</table>\n",
       "</div>"
      ],
      "text/plain": [
       "              STATE/UT  Year  Murder  Assault on women  \\\n",
       "447  TOTAL (ALL-INDIA)  2004     654              1157   \n",
       "452  TOTAL (ALL-INDIA)  2009     629              1350   \n",
       "\n",
       "     Kidnapping and Abduction  Dacoity  Robbery  Arson  Hurt  \\\n",
       "447                       253       26       72    211  3824   \n",
       "452                       511       42       67    195  4322   \n",
       "\n",
       "     Prevention of atrocities (POA) Act  Protection of Civil Rights (PCR) Act  \\\n",
       "447                                8891                                   364   \n",
       "452                               11037                                   168   \n",
       "\n",
       "     Other Crimes Against SCs  Total Crimes  \n",
       "447                     11435         26887  \n",
       "452                     15091         33412  "
      ]
     },
     "execution_count": 11,
     "metadata": {},
     "output_type": "execute_result"
    }
   ],
   "source": [
    "ELECTION_DATA[\"Total Crimes\"]  = ELECTION_DATA.sum(axis=1, numeric_only=True)\n",
    "ELECTION_DATA[\"Year\"] = ELECTION_DATA[\"Year\"].astype(int)\n",
    "ELECTION_DATA[\"Total Crimes\"] = ELECTION_DATA[\"Total Crimes\"].astype(int)\n",
    "ELECTION_DATA[\"Total Crimes\"] = ELECTION_DATA['Total Crimes'] - ELECTION_DATA[\"Year\"]\n",
    "ELECTION_DATA"
   ]
  },
  {
   "cell_type": "code",
   "execution_count": 30,
   "metadata": {},
   "outputs": [
    {
     "name": "stdout",
     "output_type": "stream",
     "text": [
      "2009 33412\n"
     ]
    }
   ],
   "source": [
    "Max_Crimes = int(ELECTION_DATA['Total Crimes'].max())\n",
    "Max_Crime_year = int(ELECTION_DATA[ELECTION_DATA[\"Total Crimes\"] == Max_Crimes][\"Year\"])\n",
    "print(Max_Crime_year,Max_Crimes);"
   ]
  },
  {
   "cell_type": "code",
   "execution_count": 33,
   "metadata": {},
   "outputs": [
    {
     "data": {
      "image/png": "[encoded data removed]",
      "text/plain": [
       "<Figure size 640x480 with 1 Axes>"
      ]
     },
     "metadata": {},
     "output_type": "display_data"
    }
   ],
   "source": [
    "Max_Crimes = int(ELECTION_DATA['Total Crimes'].max())\n",
    "Max_Crime_year = int(ELECTION_DATA[ELECTION_DATA[\"Total Crimes\"] == Max_Crimes][\"Year\"])\n",
    "result = ELECTION_DATA.groupby(\"Year\")[\"Total Crimes\"].sum()\n",
    "Yearly_Crimes = {}\n",
    "for year, records in result.items():\n",
    "    Yearly_Crimes[year] = records\n",
    "Yearly_Crimes = pd.DataFrame({'Year' : Yearly_Crimes.keys() , 'Total Crimes' : Yearly_Crimes.values()})\n",
    "base_color = sb.color_palette()[0]\n",
    "sb.barplot(x = \"Year\",y = \"Total Crimes\",data = Yearly_Crimes,color = base_color)\n",
    "plt.xlabel(\"Year \\n Maximum in {year} with {crime} crimes\".format(year = Max_Crime_year,crime = Max_Crimes))\n",
    "plt.title(\"Crime in years of Elections\");"
   ]
  },
  {
   "cell_type": "code",
   "execution_count": null,
   "metadata": {},
   "outputs": [],
   "source": []
  }
 ],
 "metadata": {
  "kernelspec": {
   "display_name": "Python 3.10.7 64-bit",
   "language": "python",
   "name": "python3"
  },
  "language_info": {
   "codemirror_mode": {
    "name": "ipython",
    "version": 3
   },
   "file_extension": ".py",
   "mimetype": "text/x-python",
   "name": "python",
   "nbconvert_exporter": "python",
   "pygments_lexer": "ipython3",
   "version": "3.10.7"
  },
  "orig_nbformat": 4,
  "vscode": {
   "interpreter": {
    "hash": "2dcff298e6fc9f300c172f449ac5b974b753c4428b95c0ffa294019aef922779"
   }
  }
 },
 "nbformat": 4,
 "nbformat_minor": 2
}
