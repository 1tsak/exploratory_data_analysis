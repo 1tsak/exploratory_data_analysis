{
  "nbformat": 4,
  "nbformat_minor": 0,
  "metadata": {
    "colab": {
      "provenance": []
    },
    "kernelspec": {
      "name": "python3",
      "display_name": "Python 3"
    },
    "language_info": {
      "name": "python"
    }
  },
  "cells": [
    {
      "cell_type": "code",
      "execution_count": 20,
      "metadata": {
        "id": "_CbOK-4JKQpq"
      },
      "outputs": [],
      "source": [
        "import pandas as pd\n",
        "import numpy as np\n",
        "import matplotlib.pyplot as plt\n",
        "import seaborn as sns\n",
        "sns.set()\n",
        "%matplotlib inline"
      ]
    },
    {
      "cell_type": "code",
      "source": [
        "data_url = 'https://raw.githubusercontent.com/souvikg544/exploratory_data_analysis/main/data/world_population.csv'\n",
        "data = pd.read_csv(data_url)\n",
        "data.head()"
      ],
      "metadata": {
        "colab": {
          "base_uri": "https://localhost:8080/",
          "height": 302
        },
        "id": "HbcmrsVrKRB4",
        "outputId": "247c2aaf-ec98-4129-c708-055966e4f152"
      },
      "execution_count": 21,
      "outputs": [
        {
          "output_type": "execute_result",
          "data": {
            "text/plain": [
              "   Rank CCA3         Country           Capital Continent  2022 Population  \\\n",
              "0    36  AFG     Afghanistan             Kabul      Asia         41128771   \n",
              "1   138  ALB         Albania            Tirana    Europe          2842321   \n",
              "2    34  DZA         Algeria           Algiers    Africa         44903225   \n",
              "3   213  ASM  American Samoa         Pago Pago   Oceania            44273   \n",
              "4   203  AND         Andorra  Andorra la Vella    Europe            79824   \n",
              "\n",
              "   2020 Population  2015 Population  2010 Population  2000 Population  \\\n",
              "0         38972230         33753499         28189672         19542982   \n",
              "1          2866849          2882481          2913399          3182021   \n",
              "2         43451666         39543154         35856344         30774621   \n",
              "3            46189            51368            54849            58230   \n",
              "4            77700            71746            71519            66097   \n",
              "\n",
              "   1990 Population  1980 Population  1970 Population  Area (km²)  \\\n",
              "0         10694796         12486631         10752971      652230   \n",
              "1          3295066          2941651          2324731       28748   \n",
              "2         25518074         18739378         13795915     2381741   \n",
              "3            47818            32886            27075         199   \n",
              "4            53569            35611            19860         468   \n",
              "\n",
              "   Density (per km²)  Growth Rate  World Population Percentage  \n",
              "0            63.0587       1.0257                         0.52  \n",
              "1            98.8702       0.9957                         0.04  \n",
              "2            18.8531       1.0164                         0.56  \n",
              "3           222.4774       0.9831                         0.00  \n",
              "4           170.5641       1.0100                         0.00  "
            ],
            "text/html": [
              "\n",
              "  <div id=\"df-1e17d9cd-d207-4c70-8991-663742bde408\">\n",
              "    <div class=\"colab-df-container\">\n",
              "      <div>\n",
              "<style scoped>\n",
              "    .dataframe tbody tr th:only-of-type {\n",
              "        vertical-align: middle;\n",
              "    }\n",
              "\n",
              "    .dataframe tbody tr th {\n",
              "        vertical-align: top;\n",
              "    }\n",
              "\n",
              "    .dataframe thead th {\n",
              "        text-align: right;\n",
              "    }\n",
              "</style>\n",
              "<table border=\"1\" class=\"dataframe\">\n",
              "  <thead>\n",
              "    <tr style=\"text-align: right;\">\n",
              "      <th></th>\n",
              "      <th>Rank</th>\n",
              "      <th>CCA3</th>\n",
              "      <th>Country</th>\n",
              "      <th>Capital</th>\n",
              "      <th>Continent</th>\n",
              "      <th>2022 Population</th>\n",
              "      <th>2020 Population</th>\n",
              "      <th>2015 Population</th>\n",
              "      <th>2010 Population</th>\n",
              "      <th>2000 Population</th>\n",
              "      <th>1990 Population</th>\n",
              "      <th>1980 Population</th>\n",
              "      <th>1970 Population</th>\n",
              "      <th>Area (km²)</th>\n",
              "      <th>Density (per km²)</th>\n",
              "      <th>Growth Rate</th>\n",
              "      <th>World Population Percentage</th>\n",
              "    </tr>\n",
              "  </thead>\n",
              "  <tbody>\n",
              "    <tr>\n",
              "      <th>0</th>\n",
              "      <td>36</td>\n",
              "      <td>AFG</td>\n",
              "      <td>Afghanistan</td>\n",
              "      <td>Kabul</td>\n",
              "      <td>Asia</td>\n",
              "      <td>41128771</td>\n",
              "      <td>38972230</td>\n",
              "      <td>33753499</td>\n",
              "      <td>28189672</td>\n",
              "      <td>19542982</td>\n",
              "      <td>10694796</td>\n",
              "      <td>12486631</td>\n",
              "      <td>10752971</td>\n",
              "      <td>652230</td>\n",
              "      <td>63.0587</td>\n",
              "      <td>1.0257</td>\n",
              "      <td>0.52</td>\n",
              "    </tr>\n",
              "    <tr>\n",
              "      <th>1</th>\n",
              "      <td>138</td>\n",
              "      <td>ALB</td>\n",
              "      <td>Albania</td>\n",
              "      <td>Tirana</td>\n",
              "      <td>Europe</td>\n",
              "      <td>2842321</td>\n",
              "      <td>2866849</td>\n",
              "      <td>2882481</td>\n",
              "      <td>2913399</td>\n",
              "      <td>3182021</td>\n",
              "      <td>3295066</td>\n",
              "      <td>2941651</td>\n",
              "      <td>2324731</td>\n",
              "      <td>28748</td>\n",
              "      <td>98.8702</td>\n",
              "      <td>0.9957</td>\n",
              "      <td>0.04</td>\n",
              "    </tr>\n",
              "    <tr>\n",
              "      <th>2</th>\n",
              "      <td>34</td>\n",
              "      <td>DZA</td>\n",
              "      <td>Algeria</td>\n",
              "      <td>Algiers</td>\n",
              "      <td>Africa</td>\n",
              "      <td>44903225</td>\n",
              "      <td>43451666</td>\n",
              "      <td>39543154</td>\n",
              "      <td>35856344</td>\n",
              "      <td>30774621</td>\n",
              "      <td>25518074</td>\n",
              "      <td>18739378</td>\n",
              "      <td>13795915</td>\n",
              "      <td>2381741</td>\n",
              "      <td>18.8531</td>\n",
              "      <td>1.0164</td>\n",
              "      <td>0.56</td>\n",
              "    </tr>\n",
              "    <tr>\n",
              "      <th>3</th>\n",
              "      <td>213</td>\n",
              "      <td>ASM</td>\n",
              "      <td>American Samoa</td>\n",
              "      <td>Pago Pago</td>\n",
              "      <td>Oceania</td>\n",
              "      <td>44273</td>\n",
              "      <td>46189</td>\n",
              "      <td>51368</td>\n",
              "      <td>54849</td>\n",
              "      <td>58230</td>\n",
              "      <td>47818</td>\n",
              "      <td>32886</td>\n",
              "      <td>27075</td>\n",
              "      <td>199</td>\n",
              "      <td>222.4774</td>\n",
              "      <td>0.9831</td>\n",
              "      <td>0.00</td>\n",
              "    </tr>\n",
              "    <tr>\n",
              "      <th>4</th>\n",
              "      <td>203</td>\n",
              "      <td>AND</td>\n",
              "      <td>Andorra</td>\n",
              "      <td>Andorra la Vella</td>\n",
              "      <td>Europe</td>\n",
              "      <td>79824</td>\n",
              "      <td>77700</td>\n",
              "      <td>71746</td>\n",
              "      <td>71519</td>\n",
              "      <td>66097</td>\n",
              "      <td>53569</td>\n",
              "      <td>35611</td>\n",
              "      <td>19860</td>\n",
              "      <td>468</td>\n",
              "      <td>170.5641</td>\n",
              "      <td>1.0100</td>\n",
              "      <td>0.00</td>\n",
              "    </tr>\n",
              "  </tbody>\n",
              "</table>\n",
              "</div>\n",
              "      <button class=\"colab-df-convert\" onclick=\"convertToInteractive('df-1e17d9cd-d207-4c70-8991-663742bde408')\"\n",
              "              title=\"Convert this dataframe to an interactive table.\"\n",
              "              style=\"display:none;\">\n",
              "        \n",
              "  <svg xmlns=\"http://www.w3.org/2000/svg\" height=\"24px\"viewBox=\"0 0 24 24\"\n",
              "       width=\"24px\">\n",
              "    <path d=\"M0 0h24v24H0V0z\" fill=\"none\"/>\n",
              "    <path d=\"M18.56 5.44l.94 2.06.94-2.06 2.06-.94-2.06-.94-.94-2.06-.94 2.06-2.06.94zm-11 1L8.5 8.5l.94-2.06 2.06-.94-2.06-.94L8.5 2.5l-.94 2.06-2.06.94zm10 10l.94 2.06.94-2.06 2.06-.94-2.06-.94-.94-2.06-.94 2.06-2.06.94z\"/><path d=\"M17.41 7.96l-1.37-1.37c-.4-.4-.92-.59-1.43-.59-.52 0-1.04.2-1.43.59L10.3 9.45l-7.72 7.72c-.78.78-.78 2.05 0 2.83L4 21.41c.39.39.9.59 1.41.59.51 0 1.02-.2 1.41-.59l7.78-7.78 2.81-2.81c.8-.78.8-2.07 0-2.86zM5.41 20L4 18.59l7.72-7.72 1.47 1.35L5.41 20z\"/>\n",
              "  </svg>\n",
              "      </button>\n",
              "      \n",
              "  <style>\n",
              "    .colab-df-container {\n",
              "      display:flex;\n",
              "      flex-wrap:wrap;\n",
              "      gap: 12px;\n",
              "    }\n",
              "\n",
              "    .colab-df-convert {\n",
              "      background-color: #E8F0FE;\n",
              "      border: none;\n",
              "      border-radius: 50%;\n",
              "      cursor: pointer;\n",
              "      display: none;\n",
              "      fill: #1967D2;\n",
              "      height: 32px;\n",
              "      padding: 0 0 0 0;\n",
              "      width: 32px;\n",
              "    }\n",
              "\n",
              "    .colab-df-convert:hover {\n",
              "      background-color: #E2EBFA;\n",
              "      box-shadow: 0px 1px 2px rgba(60, 64, 67, 0.3), 0px 1px 3px 1px rgba(60, 64, 67, 0.15);\n",
              "      fill: #174EA6;\n",
              "    }\n",
              "\n",
              "    [theme=dark] .colab-df-convert {\n",
              "      background-color: #3B4455;\n",
              "      fill: #D2E3FC;\n",
              "    }\n",
              "\n",
              "    [theme=dark] .colab-df-convert:hover {\n",
              "      background-color: #434B5C;\n",
              "      box-shadow: 0px 1px 3px 1px rgba(0, 0, 0, 0.15);\n",
              "      filter: drop-shadow(0px 1px 2px rgba(0, 0, 0, 0.3));\n",
              "      fill: #FFFFFF;\n",
              "    }\n",
              "  </style>\n",
              "\n",
              "      <script>\n",
              "        const buttonEl =\n",
              "          document.querySelector('#df-1e17d9cd-d207-4c70-8991-663742bde408 button.colab-df-convert');\n",
              "        buttonEl.style.display =\n",
              "          google.colab.kernel.accessAllowed ? 'block' : 'none';\n",
              "\n",
              "        async function convertToInteractive(key) {\n",
              "          const element = document.querySelector('#df-1e17d9cd-d207-4c70-8991-663742bde408');\n",
              "          const dataTable =\n",
              "            await google.colab.kernel.invokeFunction('convertToInteractive',\n",
              "                                                     [key], {});\n",
              "          if (!dataTable) return;\n",
              "\n",
              "          const docLinkHtml = 'Like what you see? Visit the ' +\n",
              "            '<a target=\"_blank\" href=https://colab.research.google.com/notebooks/data_table.ipynb>data table notebook</a>'\n",
              "            + ' to learn more about interactive tables.';\n",
              "          element.innerHTML = '';\n",
              "          dataTable['output_type'] = 'display_data';\n",
              "          await google.colab.output.renderOutput(dataTable, element);\n",
              "          const docLink = document.createElement('div');\n",
              "          docLink.innerHTML = docLinkHtml;\n",
              "          element.appendChild(docLink);\n",
              "        }\n",
              "      </script>\n",
              "    </div>\n",
              "  </div>\n",
              "  "
            ]
          },
          "metadata": {},
          "execution_count": 21
        }
      ]
    },
    {
      "cell_type": "markdown",
      "source": [
        "# 1970 Population"
      ],
      "metadata": {
        "id": "rmH3h_z1NFSV"
      }
    },
    {
      "cell_type": "code",
      "source": [
        "population_1970 = data['1970 Population']\n",
        "max_pop_index = population_1970.argmax()\n",
        "min_pop_index = population_1970.argmin()\n",
        "\n",
        "print(f'Country having maximum population in 1970 : {data.loc[max_pop_index, \"Country\"]}')\n",
        "print(f'Country having minimum population in 1970 : {data.loc[min_pop_index, \"Country\"]}')"
      ],
      "metadata": {
        "colab": {
          "base_uri": "https://localhost:8080/"
        },
        "id": "pZMczgjmKfaR",
        "outputId": "bc76d19c-0885-4027-f159-c206b803029a"
      },
      "execution_count": 22,
      "outputs": [
        {
          "output_type": "stream",
          "name": "stdout",
          "text": [
            "Country having maximum population in 1970 : China\n",
            "Country having minimum population in 1970 : Vatican City\n"
          ]
        }
      ]
    },
    {
      "cell_type": "markdown",
      "source": [
        "# 1990 Population"
      ],
      "metadata": {
        "id": "Qy3iLy-iNJV1"
      }
    },
    {
      "cell_type": "code",
      "source": [
        "population_1990 = data['1990 Population']\n",
        "max_pop_index = population_1990.argmax()\n",
        "min_pop_index = population_1990.argmin()\n",
        "\n",
        "print(f'Country having maximum population in 1990 : {data.loc[max_pop_index, \"Country\"]}')\n",
        "print(f'Country having minimum population in 1990 : {data.loc[min_pop_index, \"Country\"]}')"
      ],
      "metadata": {
        "colab": {
          "base_uri": "https://localhost:8080/"
        },
        "id": "7Sd37Dm0KrGr",
        "outputId": "1d6eb6c0-c3bf-42b6-9a5b-e5dc227af4b6"
      },
      "execution_count": 23,
      "outputs": [
        {
          "output_type": "stream",
          "name": "stdout",
          "text": [
            "Country having maximum population in 1990 : China\n",
            "Country having minimum population in 1990 : Vatican City\n"
          ]
        }
      ]
    },
    {
      "cell_type": "markdown",
      "source": [
        "# 2000 Population"
      ],
      "metadata": {
        "id": "V274a_HANOnF"
      }
    },
    {
      "cell_type": "code",
      "source": [
        "population_2000 = data['2000 Population']\n",
        "max_pop_index = population_2000.argmax()\n",
        "min_pop_index = population_2000.argmin()\n",
        "\n",
        "print(f'Country having maximum population in 2000 : {data.loc[max_pop_index, \"Country\"]}')\n",
        "print(f'Country having minimum population in 2000 : {data.loc[min_pop_index, \"Country\"]}')"
      ],
      "metadata": {
        "colab": {
          "base_uri": "https://localhost:8080/"
        },
        "id": "IdpGWvQOKuJq",
        "outputId": "27417e31-0059-489f-eead-865d8d30246c"
      },
      "execution_count": 24,
      "outputs": [
        {
          "output_type": "stream",
          "name": "stdout",
          "text": [
            "Country having maximum population in 2000 : China\n",
            "Country having minimum population in 2000 : Vatican City\n"
          ]
        }
      ]
    },
    {
      "cell_type": "markdown",
      "source": [
        "# 2010 Population"
      ],
      "metadata": {
        "id": "m2tLf5ikNSnj"
      }
    },
    {
      "cell_type": "code",
      "source": [
        "population_2010 = data['1970 Population']\n",
        "max_pop_index = population_2010.argmax()\n",
        "min_pop_index = population_2010.argmin()\n",
        "\n",
        "print(f'Country having maximum population in 2010 : {data.loc[max_pop_index, \"Country\"]}')\n",
        "print(f'Country having minimum population in 2010 : {data.loc[min_pop_index, \"Country\"]}')"
      ],
      "metadata": {
        "colab": {
          "base_uri": "https://localhost:8080/"
        },
        "id": "jjCmTjuFKvvK",
        "outputId": "f8b32fb9-f4d3-4b83-9d9f-abf7493f1b7f"
      },
      "execution_count": 25,
      "outputs": [
        {
          "output_type": "stream",
          "name": "stdout",
          "text": [
            "Country having maximum population in 2010 : China\n",
            "Country having minimum population in 2010 : Vatican City\n"
          ]
        }
      ]
    },
    {
      "cell_type": "markdown",
      "source": [
        "# 2022 Population"
      ],
      "metadata": {
        "id": "Zo_qXRVXNWyo"
      }
    },
    {
      "cell_type": "code",
      "source": [
        "population_2022= data['1970 Population']\n",
        "max_pop_index = population_2022.argmax()\n",
        "min_pop_index = population_2022.argmin()\n",
        "\n",
        "print(f'Country having maximum population in 2022 : {data.loc[max_pop_index, \"Country\"]}')\n",
        "print(f'Country having minimum population in 2022 : {data.loc[min_pop_index, \"Country\"]}')"
      ],
      "metadata": {
        "colab": {
          "base_uri": "https://localhost:8080/"
        },
        "id": "mWwhNrRCK3d6",
        "outputId": "5771a3c0-8665-4c45-e6a8-3febff8942c1"
      },
      "execution_count": 26,
      "outputs": [
        {
          "output_type": "stream",
          "name": "stdout",
          "text": [
            "Country having maximum population in 2022 : China\n",
            "Country having minimum population in 2022 : Vatican City\n"
          ]
        }
      ]
    },
    {
      "cell_type": "markdown",
      "source": [
        "It seems to be no change in the country which is having maximum population and minimum population since 1970\n",
        "\n"
      ],
      "metadata": {
        "id": "bdrOZFWmNanV"
      }
    },
    {
      "cell_type": "markdown",
      "source": [
        "# Last 22 years population per continent"
      ],
      "metadata": {
        "id": "GNyLTe-tO3ZP"
      }
    },
    {
      "cell_type": "code",
      "source": [
        "continent_population = data.groupby(['Continent']).mean()[['2022 Population','2020 Population','2015 Population','2000 Population']]"
      ],
      "metadata": {
        "id": "rHnx27LGLWD0"
      },
      "execution_count": 31,
      "outputs": []
    },
    {
      "cell_type": "code",
      "source": [
        "continent_population"
      ],
      "metadata": {
        "colab": {
          "base_uri": "https://localhost:8080/",
          "height": 269
        },
        "id": "UbYuBXE3MWNt",
        "outputId": "7c6be356-e07e-4d1a-f8e7-0c17ffbe6a8c"
      },
      "execution_count": 32,
      "outputs": [
        {
          "output_type": "execute_result",
          "data": {
            "text/plain": [
              "               2022 Population  2020 Population  2015 Population  \\\n",
              "Continent                                                          \n",
              "Africa            2.503037e+07     2.387144e+07     2.107197e+07   \n",
              "Asia              9.442767e+07     9.326173e+07     8.916500e+07   \n",
              "Europe            1.486295e+07     1.491584e+07     1.483071e+07   \n",
              "North America     1.500740e+07     1.485591e+07     1.425960e+07   \n",
              "Oceania           1.958198e+06     1.910149e+06     1.756664e+06   \n",
              "South America     3.120119e+07     3.082357e+07     2.950960e+07   \n",
              "\n",
              "               2000 Population  \n",
              "Continent                       \n",
              "Africa            1.436747e+07  \n",
              "Asia              7.470179e+07  \n",
              "Europe            1.452187e+07  \n",
              "North America     1.215174e+07  \n",
              "Oceania           1.357512e+06  \n",
              "South America     2.497388e+07  "
            ],
            "text/html": [
              "\n",
              "  <div id=\"df-a40f64dd-9954-45c7-942e-26d4135d30c8\">\n",
              "    <div class=\"colab-df-container\">\n",
              "      <div>\n",
              "<style scoped>\n",
              "    .dataframe tbody tr th:only-of-type {\n",
              "        vertical-align: middle;\n",
              "    }\n",
              "\n",
              "    .dataframe tbody tr th {\n",
              "        vertical-align: top;\n",
              "    }\n",
              "\n",
              "    .dataframe thead th {\n",
              "        text-align: right;\n",
              "    }\n",
              "</style>\n",
              "<table border=\"1\" class=\"dataframe\">\n",
              "  <thead>\n",
              "    <tr style=\"text-align: right;\">\n",
              "      <th></th>\n",
              "      <th>2022 Population</th>\n",
              "      <th>2020 Population</th>\n",
              "      <th>2015 Population</th>\n",
              "      <th>2000 Population</th>\n",
              "    </tr>\n",
              "    <tr>\n",
              "      <th>Continent</th>\n",
              "      <th></th>\n",
              "      <th></th>\n",
              "      <th></th>\n",
              "      <th></th>\n",
              "    </tr>\n",
              "  </thead>\n",
              "  <tbody>\n",
              "    <tr>\n",
              "      <th>Africa</th>\n",
              "      <td>2.503037e+07</td>\n",
              "      <td>2.387144e+07</td>\n",
              "      <td>2.107197e+07</td>\n",
              "      <td>1.436747e+07</td>\n",
              "    </tr>\n",
              "    <tr>\n",
              "      <th>Asia</th>\n",
              "      <td>9.442767e+07</td>\n",
              "      <td>9.326173e+07</td>\n",
              "      <td>8.916500e+07</td>\n",
              "      <td>7.470179e+07</td>\n",
              "    </tr>\n",
              "    <tr>\n",
              "      <th>Europe</th>\n",
              "      <td>1.486295e+07</td>\n",
              "      <td>1.491584e+07</td>\n",
              "      <td>1.483071e+07</td>\n",
              "      <td>1.452187e+07</td>\n",
              "    </tr>\n",
              "    <tr>\n",
              "      <th>North America</th>\n",
              "      <td>1.500740e+07</td>\n",
              "      <td>1.485591e+07</td>\n",
              "      <td>1.425960e+07</td>\n",
              "      <td>1.215174e+07</td>\n",
              "    </tr>\n",
              "    <tr>\n",
              "      <th>Oceania</th>\n",
              "      <td>1.958198e+06</td>\n",
              "      <td>1.910149e+06</td>\n",
              "      <td>1.756664e+06</td>\n",
              "      <td>1.357512e+06</td>\n",
              "    </tr>\n",
              "    <tr>\n",
              "      <th>South America</th>\n",
              "      <td>3.120119e+07</td>\n",
              "      <td>3.082357e+07</td>\n",
              "      <td>2.950960e+07</td>\n",
              "      <td>2.497388e+07</td>\n",
              "    </tr>\n",
              "  </tbody>\n",
              "</table>\n",
              "</div>\n",
              "      <button class=\"colab-df-convert\" onclick=\"convertToInteractive('df-a40f64dd-9954-45c7-942e-26d4135d30c8')\"\n",
              "              title=\"Convert this dataframe to an interactive table.\"\n",
              "              style=\"display:none;\">\n",
              "        \n",
              "  <svg xmlns=\"http://www.w3.org/2000/svg\" height=\"24px\"viewBox=\"0 0 24 24\"\n",
              "       width=\"24px\">\n",
              "    <path d=\"M0 0h24v24H0V0z\" fill=\"none\"/>\n",
              "    <path d=\"M18.56 5.44l.94 2.06.94-2.06 2.06-.94-2.06-.94-.94-2.06-.94 2.06-2.06.94zm-11 1L8.5 8.5l.94-2.06 2.06-.94-2.06-.94L8.5 2.5l-.94 2.06-2.06.94zm10 10l.94 2.06.94-2.06 2.06-.94-2.06-.94-.94-2.06-.94 2.06-2.06.94z\"/><path d=\"M17.41 7.96l-1.37-1.37c-.4-.4-.92-.59-1.43-.59-.52 0-1.04.2-1.43.59L10.3 9.45l-7.72 7.72c-.78.78-.78 2.05 0 2.83L4 21.41c.39.39.9.59 1.41.59.51 0 1.02-.2 1.41-.59l7.78-7.78 2.81-2.81c.8-.78.8-2.07 0-2.86zM5.41 20L4 18.59l7.72-7.72 1.47 1.35L5.41 20z\"/>\n",
              "  </svg>\n",
              "      </button>\n",
              "      \n",
              "  <style>\n",
              "    .colab-df-container {\n",
              "      display:flex;\n",
              "      flex-wrap:wrap;\n",
              "      gap: 12px;\n",
              "    }\n",
              "\n",
              "    .colab-df-convert {\n",
              "      background-color: #E8F0FE;\n",
              "      border: none;\n",
              "      border-radius: 50%;\n",
              "      cursor: pointer;\n",
              "      display: none;\n",
              "      fill: #1967D2;\n",
              "      height: 32px;\n",
              "      padding: 0 0 0 0;\n",
              "      width: 32px;\n",
              "    }\n",
              "\n",
              "    .colab-df-convert:hover {\n",
              "      background-color: #E2EBFA;\n",
              "      box-shadow: 0px 1px 2px rgba(60, 64, 67, 0.3), 0px 1px 3px 1px rgba(60, 64, 67, 0.15);\n",
              "      fill: #174EA6;\n",
              "    }\n",
              "\n",
              "    [theme=dark] .colab-df-convert {\n",
              "      background-color: #3B4455;\n",
              "      fill: #D2E3FC;\n",
              "    }\n",
              "\n",
              "    [theme=dark] .colab-df-convert:hover {\n",
              "      background-color: #434B5C;\n",
              "      box-shadow: 0px 1px 3px 1px rgba(0, 0, 0, 0.15);\n",
              "      filter: drop-shadow(0px 1px 2px rgba(0, 0, 0, 0.3));\n",
              "      fill: #FFFFFF;\n",
              "    }\n",
              "  </style>\n",
              "\n",
              "      <script>\n",
              "        const buttonEl =\n",
              "          document.querySelector('#df-a40f64dd-9954-45c7-942e-26d4135d30c8 button.colab-df-convert');\n",
              "        buttonEl.style.display =\n",
              "          google.colab.kernel.accessAllowed ? 'block' : 'none';\n",
              "\n",
              "        async function convertToInteractive(key) {\n",
              "          const element = document.querySelector('#df-a40f64dd-9954-45c7-942e-26d4135d30c8');\n",
              "          const dataTable =\n",
              "            await google.colab.kernel.invokeFunction('convertToInteractive',\n",
              "                                                     [key], {});\n",
              "          if (!dataTable) return;\n",
              "\n",
              "          const docLinkHtml = 'Like what you see? Visit the ' +\n",
              "            '<a target=\"_blank\" href=https://colab.research.google.com/notebooks/data_table.ipynb>data table notebook</a>'\n",
              "            + ' to learn more about interactive tables.';\n",
              "          element.innerHTML = '';\n",
              "          dataTable['output_type'] = 'display_data';\n",
              "          await google.colab.output.renderOutput(dataTable, element);\n",
              "          const docLink = document.createElement('div');\n",
              "          docLink.innerHTML = docLinkHtml;\n",
              "          element.appendChild(docLink);\n",
              "        }\n",
              "      </script>\n",
              "    </div>\n",
              "  </div>\n",
              "  "
            ]
          },
          "metadata": {},
          "execution_count": 32
        }
      ]
    },
    {
      "cell_type": "markdown",
      "source": [
        "# Each country's mean population in the year 2022"
      ],
      "metadata": {
        "id": "9AubEcMOPQHA"
      }
    },
    {
      "cell_type": "code",
      "source": [
        "country_population = data.groupby(['Country']).mean()[['2022 Population','2020 Population','2015 Population','2000 Population']]"
      ],
      "metadata": {
        "id": "jvqRLhnuOkD9"
      },
      "execution_count": 35,
      "outputs": []
    },
    {
      "cell_type": "code",
      "source": [
        "country_population[\"2022 Population\"]"
      ],
      "metadata": {
        "colab": {
          "base_uri": "https://localhost:8080/",
          "height": 455
        },
        "id": "Z1CLprJ8Oybt",
        "outputId": "20c07a41-91c3-4002-eb20-b7ae245b5ef7"
      },
      "execution_count": 36,
      "outputs": [
        {
          "output_type": "execute_result",
          "data": {
            "text/plain": [
              "                   2022 Population  2020 Population  2015 Population  \\\n",
              "Country                                                                \n",
              "Afghanistan             41128771.0       38972230.0       33753499.0   \n",
              "Albania                  2842321.0        2866849.0        2882481.0   \n",
              "Algeria                 44903225.0       43451666.0       39543154.0   \n",
              "American Samoa             44273.0          46189.0          51368.0   \n",
              "Andorra                    79824.0          77700.0          71746.0   \n",
              "...                            ...              ...              ...   \n",
              "Wallis and Futuna          11572.0          11655.0          12182.0   \n",
              "Western Sahara            575986.0         556048.0         491824.0   \n",
              "Yemen                   33696614.0       32284046.0       28516545.0   \n",
              "Zambia                  20017675.0       18927715.0       16248230.0   \n",
              "Zimbabwe                16320537.0       15669666.0       14154937.0   \n",
              "\n",
              "                   2000 Population  \n",
              "Country                             \n",
              "Afghanistan             19542982.0  \n",
              "Albania                  3182021.0  \n",
              "Algeria                 30774621.0  \n",
              "American Samoa             58230.0  \n",
              "Andorra                    66097.0  \n",
              "...                            ...  \n",
              "Wallis and Futuna          14723.0  \n",
              "Western Sahara            270375.0  \n",
              "Yemen                   18628700.0  \n",
              "Zambia                   9891136.0  \n",
              "Zimbabwe                11834676.0  \n",
              "\n",
              "[234 rows x 4 columns]"
            ],
            "text/html": [
              "\n",
              "  <div id=\"df-36810fdc-5a1f-4adf-a10d-a077628f99ae\">\n",
              "    <div class=\"colab-df-container\">\n",
              "      <div>\n",
              "<style scoped>\n",
              "    .dataframe tbody tr th:only-of-type {\n",
              "        vertical-align: middle;\n",
              "    }\n",
              "\n",
              "    .dataframe tbody tr th {\n",
              "        vertical-align: top;\n",
              "    }\n",
              "\n",
              "    .dataframe thead th {\n",
              "        text-align: right;\n",
              "    }\n",
              "</style>\n",
              "<table border=\"1\" class=\"dataframe\">\n",
              "  <thead>\n",
              "    <tr style=\"text-align: right;\">\n",
              "      <th></th>\n",
              "      <th>2022 Population</th>\n",
              "      <th>2020 Population</th>\n",
              "      <th>2015 Population</th>\n",
              "      <th>2000 Population</th>\n",
              "    </tr>\n",
              "    <tr>\n",
              "      <th>Country</th>\n",
              "      <th></th>\n",
              "      <th></th>\n",
              "      <th></th>\n",
              "      <th></th>\n",
              "    </tr>\n",
              "  </thead>\n",
              "  <tbody>\n",
              "    <tr>\n",
              "      <th>Afghanistan</th>\n",
              "      <td>41128771.0</td>\n",
              "      <td>38972230.0</td>\n",
              "      <td>33753499.0</td>\n",
              "      <td>19542982.0</td>\n",
              "    </tr>\n",
              "    <tr>\n",
              "      <th>Albania</th>\n",
              "      <td>2842321.0</td>\n",
              "      <td>2866849.0</td>\n",
              "      <td>2882481.0</td>\n",
              "      <td>3182021.0</td>\n",
              "    </tr>\n",
              "    <tr>\n",
              "      <th>Algeria</th>\n",
              "      <td>44903225.0</td>\n",
              "      <td>43451666.0</td>\n",
              "      <td>39543154.0</td>\n",
              "      <td>30774621.0</td>\n",
              "    </tr>\n",
              "    <tr>\n",
              "      <th>American Samoa</th>\n",
              "      <td>44273.0</td>\n",
              "      <td>46189.0</td>\n",
              "      <td>51368.0</td>\n",
              "      <td>58230.0</td>\n",
              "    </tr>\n",
              "    <tr>\n",
              "      <th>Andorra</th>\n",
              "      <td>79824.0</td>\n",
              "      <td>77700.0</td>\n",
              "      <td>71746.0</td>\n",
              "      <td>66097.0</td>\n",
              "    </tr>\n",
              "    <tr>\n",
              "      <th>...</th>\n",
              "      <td>...</td>\n",
              "      <td>...</td>\n",
              "      <td>...</td>\n",
              "      <td>...</td>\n",
              "    </tr>\n",
              "    <tr>\n",
              "      <th>Wallis and Futuna</th>\n",
              "      <td>11572.0</td>\n",
              "      <td>11655.0</td>\n",
              "      <td>12182.0</td>\n",
              "      <td>14723.0</td>\n",
              "    </tr>\n",
              "    <tr>\n",
              "      <th>Western Sahara</th>\n",
              "      <td>575986.0</td>\n",
              "      <td>556048.0</td>\n",
              "      <td>491824.0</td>\n",
              "      <td>270375.0</td>\n",
              "    </tr>\n",
              "    <tr>\n",
              "      <th>Yemen</th>\n",
              "      <td>33696614.0</td>\n",
              "      <td>32284046.0</td>\n",
              "      <td>28516545.0</td>\n",
              "      <td>18628700.0</td>\n",
              "    </tr>\n",
              "    <tr>\n",
              "      <th>Zambia</th>\n",
              "      <td>20017675.0</td>\n",
              "      <td>18927715.0</td>\n",
              "      <td>16248230.0</td>\n",
              "      <td>9891136.0</td>\n",
              "    </tr>\n",
              "    <tr>\n",
              "      <th>Zimbabwe</th>\n",
              "      <td>16320537.0</td>\n",
              "      <td>15669666.0</td>\n",
              "      <td>14154937.0</td>\n",
              "      <td>11834676.0</td>\n",
              "    </tr>\n",
              "  </tbody>\n",
              "</table>\n",
              "<p>234 rows × 4 columns</p>\n",
              "</div>\n",
              "      <button class=\"colab-df-convert\" onclick=\"convertToInteractive('df-36810fdc-5a1f-4adf-a10d-a077628f99ae')\"\n",
              "              title=\"Convert this dataframe to an interactive table.\"\n",
              "              style=\"display:none;\">\n",
              "        \n",
              "  <svg xmlns=\"http://www.w3.org/2000/svg\" height=\"24px\"viewBox=\"0 0 24 24\"\n",
              "       width=\"24px\">\n",
              "    <path d=\"M0 0h24v24H0V0z\" fill=\"none\"/>\n",
              "    <path d=\"M18.56 5.44l.94 2.06.94-2.06 2.06-.94-2.06-.94-.94-2.06-.94 2.06-2.06.94zm-11 1L8.5 8.5l.94-2.06 2.06-.94-2.06-.94L8.5 2.5l-.94 2.06-2.06.94zm10 10l.94 2.06.94-2.06 2.06-.94-2.06-.94-.94-2.06-.94 2.06-2.06.94z\"/><path d=\"M17.41 7.96l-1.37-1.37c-.4-.4-.92-.59-1.43-.59-.52 0-1.04.2-1.43.59L10.3 9.45l-7.72 7.72c-.78.78-.78 2.05 0 2.83L4 21.41c.39.39.9.59 1.41.59.51 0 1.02-.2 1.41-.59l7.78-7.78 2.81-2.81c.8-.78.8-2.07 0-2.86zM5.41 20L4 18.59l7.72-7.72 1.47 1.35L5.41 20z\"/>\n",
              "  </svg>\n",
              "      </button>\n",
              "      \n",
              "  <style>\n",
              "    .colab-df-container {\n",
              "      display:flex;\n",
              "      flex-wrap:wrap;\n",
              "      gap: 12px;\n",
              "    }\n",
              "\n",
              "    .colab-df-convert {\n",
              "      background-color: #E8F0FE;\n",
              "      border: none;\n",
              "      border-radius: 50%;\n",
              "      cursor: pointer;\n",
              "      display: none;\n",
              "      fill: #1967D2;\n",
              "      height: 32px;\n",
              "      padding: 0 0 0 0;\n",
              "      width: 32px;\n",
              "    }\n",
              "\n",
              "    .colab-df-convert:hover {\n",
              "      background-color: #E2EBFA;\n",
              "      box-shadow: 0px 1px 2px rgba(60, 64, 67, 0.3), 0px 1px 3px 1px rgba(60, 64, 67, 0.15);\n",
              "      fill: #174EA6;\n",
              "    }\n",
              "\n",
              "    [theme=dark] .colab-df-convert {\n",
              "      background-color: #3B4455;\n",
              "      fill: #D2E3FC;\n",
              "    }\n",
              "\n",
              "    [theme=dark] .colab-df-convert:hover {\n",
              "      background-color: #434B5C;\n",
              "      box-shadow: 0px 1px 3px 1px rgba(0, 0, 0, 0.15);\n",
              "      filter: drop-shadow(0px 1px 2px rgba(0, 0, 0, 0.3));\n",
              "      fill: #FFFFFF;\n",
              "    }\n",
              "  </style>\n",
              "\n",
              "      <script>\n",
              "        const buttonEl =\n",
              "          document.querySelector('#df-36810fdc-5a1f-4adf-a10d-a077628f99ae button.colab-df-convert');\n",
              "        buttonEl.style.display =\n",
              "          google.colab.kernel.accessAllowed ? 'block' : 'none';\n",
              "\n",
              "        async function convertToInteractive(key) {\n",
              "          const element = document.querySelector('#df-36810fdc-5a1f-4adf-a10d-a077628f99ae');\n",
              "          const dataTable =\n",
              "            await google.colab.kernel.invokeFunction('convertToInteractive',\n",
              "                                                     [key], {});\n",
              "          if (!dataTable) return;\n",
              "\n",
              "          const docLinkHtml = 'Like what you see? Visit the ' +\n",
              "            '<a target=\"_blank\" href=https://colab.research.google.com/notebooks/data_table.ipynb>data table notebook</a>'\n",
              "            + ' to learn more about interactive tables.';\n",
              "          element.innerHTML = '';\n",
              "          dataTable['output_type'] = 'display_data';\n",
              "          await google.colab.output.renderOutput(dataTable, element);\n",
              "          const docLink = document.createElement('div');\n",
              "          docLink.innerHTML = docLinkHtml;\n",
              "          element.appendChild(docLink);\n",
              "        }\n",
              "      </script>\n",
              "    </div>\n",
              "  </div>\n",
              "  "
            ]
          },
          "metadata": {},
          "execution_count": 36
        }
      ]
    },
    {
      "cell_type": "markdown",
      "source": [
        "# Countries with Highest growth rates"
      ],
      "metadata": {
        "id": "YyPNE3DkPaND"
      }
    },
    {
      "cell_type": "code",
      "source": [
        "country_growth_rate = data.groupby(['Country']).mean()['Growth Rate']"
      ],
      "metadata": {
        "id": "EjV70bVOPGPE"
      },
      "execution_count": 37,
      "outputs": []
    },
    {
      "cell_type": "code",
      "source": [
        "country_growth_rate.sort_values(ascending = False).head()"
      ],
      "metadata": {
        "colab": {
          "base_uri": "https://localhost:8080/"
        },
        "id": "6APf4DYtPhdm",
        "outputId": "3c0d83b2-7359-45f3-ce1d-83338d28d2a0"
      },
      "execution_count": 42,
      "outputs": [
        {
          "output_type": "execute_result",
          "data": {
            "text/plain": [
              "Country\n",
              "Moldova     1.0691\n",
              "Poland      1.0404\n",
              "Niger       1.0378\n",
              "Syria       1.0376\n",
              "Slovakia    1.0359\n",
              "Name: Growth Rate, dtype: float64"
            ]
          },
          "metadata": {},
          "execution_count": 42
        }
      ]
    },
    {
      "cell_type": "markdown",
      "source": [
        "# Countries with Lowest growth rates"
      ],
      "metadata": {
        "id": "yND2pDi6P4qE"
      }
    },
    {
      "cell_type": "code",
      "source": [
        "country_growth_rate.sort_values(ascending = False).tail()"
      ],
      "metadata": {
        "colab": {
          "base_uri": "https://localhost:8080/"
        },
        "id": "subvjv7WPi0d",
        "outputId": "51bfabf8-ce28-4008-f79f-263642641b0a"
      },
      "execution_count": 43,
      "outputs": [
        {
          "output_type": "execute_result",
          "data": {
            "text/plain": [
              "Country\n",
              "Lithuania         0.9869\n",
              "Bulgaria          0.9849\n",
              "American Samoa    0.9831\n",
              "Lebanon           0.9816\n",
              "Ukraine           0.9120\n",
              "Name: Growth Rate, dtype: float64"
            ]
          },
          "metadata": {},
          "execution_count": 43
        }
      ]
    },
    {
      "cell_type": "code",
      "source": [],
      "metadata": {
        "id": "m5VblJq9P72c"
      },
      "execution_count": null,
      "outputs": []
    }
  ]
}