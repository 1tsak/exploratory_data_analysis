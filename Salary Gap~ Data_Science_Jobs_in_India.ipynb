{
 "cells": [
  {
   "cell_type": "markdown",
   "id": "0f8a7e9d",
   "metadata": {},
   "source": [
    "# Salary Gap~ Data_Science_Jobs_in_India\n",
    "Analyzing the given dataset as CSV file <Data_Science_Jobs_in_India.csv>\n",
    "\n",
    "                                 **Conclusion attached at the end of the analysis**"
   ]
  },
  {
   "cell_type": "code",
   "execution_count": 107,
   "id": "c4688769",
   "metadata": {},
   "outputs": [],
   "source": [
    "#importing libraries\n",
    "import pandas as pd\n",
    "from matplotlib import pyplot as plt\n",
    "import statistics as st"
   ]
  },
  {
   "cell_type": "code",
   "execution_count": 108,
   "id": "7f454912",
   "metadata": {},
   "outputs": [
    {
     "data": {
      "text/html": [
       "<div>\n",
       "<style scoped>\n",
       "    .dataframe tbody tr th:only-of-type {\n",
       "        vertical-align: middle;\n",
       "    }\n",
       "\n",
       "    .dataframe tbody tr th {\n",
       "        vertical-align: top;\n",
       "    }\n",
       "\n",
       "    .dataframe thead th {\n",
       "        text-align: right;\n",
       "    }\n",
       "</style>\n",
       "<table border=\"1\" class=\"dataframe\">\n",
       "  <thead>\n",
       "    <tr style=\"text-align: right;\">\n",
       "      <th></th>\n",
       "      <th>company_name</th>\n",
       "      <th>job_title</th>\n",
       "      <th>min_experience</th>\n",
       "      <th>avg_salary</th>\n",
       "      <th>min_salary</th>\n",
       "      <th>max_salary</th>\n",
       "      <th>num_of_salaries</th>\n",
       "    </tr>\n",
       "  </thead>\n",
       "  <tbody>\n",
       "    <tr>\n",
       "      <th>893</th>\n",
       "      <td>Innova Solutions</td>\n",
       "      <td>Senior Data Scientist</td>\n",
       "      <td>4</td>\n",
       "      <td>39.7L</td>\n",
       "      <td>6.0L</td>\n",
       "      <td>97.0L</td>\n",
       "      <td>5</td>\n",
       "    </tr>\n",
       "    <tr>\n",
       "      <th>1442</th>\n",
       "      <td>Emirates Airlines</td>\n",
       "      <td>Senior Data Engineer</td>\n",
       "      <td>6</td>\n",
       "      <td>68.3L</td>\n",
       "      <td>20.0L</td>\n",
       "      <td>94.0L</td>\n",
       "      <td>5</td>\n",
       "    </tr>\n",
       "    <tr>\n",
       "      <th>666</th>\n",
       "      <td>Google</td>\n",
       "      <td>Data Engineer</td>\n",
       "      <td>3</td>\n",
       "      <td>45.3L</td>\n",
       "      <td>16.5L</td>\n",
       "      <td>93.5L</td>\n",
       "      <td>16</td>\n",
       "    </tr>\n",
       "    <tr>\n",
       "      <th>919</th>\n",
       "      <td>Kyndryl</td>\n",
       "      <td>Senior Data Scientist</td>\n",
       "      <td>3</td>\n",
       "      <td>44.4L</td>\n",
       "      <td>11.6L</td>\n",
       "      <td>93.0L</td>\n",
       "      <td>5</td>\n",
       "    </tr>\n",
       "    <tr>\n",
       "      <th>1462</th>\n",
       "      <td>Uber</td>\n",
       "      <td>Senior Data Engineer</td>\n",
       "      <td>7</td>\n",
       "      <td>66.3L</td>\n",
       "      <td>34.5L</td>\n",
       "      <td>93.0L</td>\n",
       "      <td>5</td>\n",
       "    </tr>\n",
       "    <tr>\n",
       "      <th>...</th>\n",
       "      <td>...</td>\n",
       "      <td>...</td>\n",
       "      <td>...</td>\n",
       "      <td>...</td>\n",
       "      <td>...</td>\n",
       "      <td>...</td>\n",
       "      <td>...</td>\n",
       "    </tr>\n",
       "    <tr>\n",
       "      <th>213</th>\n",
       "      <td>Oracle</td>\n",
       "      <td>Business Analyst</td>\n",
       "      <td>1</td>\n",
       "      <td>5.5L</td>\n",
       "      <td>3.4L</td>\n",
       "      <td>10.0L</td>\n",
       "      <td>243</td>\n",
       "    </tr>\n",
       "    <tr>\n",
       "      <th>342</th>\n",
       "      <td>Acidaes Solutions</td>\n",
       "      <td>Business Analyst</td>\n",
       "      <td>2</td>\n",
       "      <td>7.0L</td>\n",
       "      <td>5.0L</td>\n",
       "      <td>10.0L</td>\n",
       "      <td>43</td>\n",
       "    </tr>\n",
       "    <tr>\n",
       "      <th>624</th>\n",
       "      <td>Celebal Technologies</td>\n",
       "      <td>Data Engineer</td>\n",
       "      <td>0</td>\n",
       "      <td>5.5L</td>\n",
       "      <td>4.5L</td>\n",
       "      <td>10.0L</td>\n",
       "      <td>23</td>\n",
       "    </tr>\n",
       "    <tr>\n",
       "      <th>1329</th>\n",
       "      <td>Mindtree</td>\n",
       "      <td>Senior Data Engineer</td>\n",
       "      <td>2</td>\n",
       "      <td>6.7L</td>\n",
       "      <td>5.8L</td>\n",
       "      <td>10.0L</td>\n",
       "      <td>36</td>\n",
       "    </tr>\n",
       "    <tr>\n",
       "      <th>1528</th>\n",
       "      <td>Sri Ayyan Kendra Vidyalaya International School</td>\n",
       "      <td>Machine Learning Engineer</td>\n",
       "      <td>1</td>\n",
       "      <td>6.1L</td>\n",
       "      <td>2.3L</td>\n",
       "      <td>10.0L</td>\n",
       "      <td>5</td>\n",
       "    </tr>\n",
       "  </tbody>\n",
       "</table>\n",
       "<p>1602 rows × 7 columns</p>\n",
       "</div>"
      ],
      "text/plain": [
       "                                         company_name  \\\n",
       "893                                  Innova Solutions   \n",
       "1442                                Emirates Airlines   \n",
       "666                                            Google   \n",
       "919                                           Kyndryl   \n",
       "1462                                             Uber   \n",
       "...                                               ...   \n",
       "213                                            Oracle   \n",
       "342                                 Acidaes Solutions   \n",
       "624                              Celebal Technologies   \n",
       "1329                                         Mindtree   \n",
       "1528  Sri Ayyan Kendra Vidyalaya International School   \n",
       "\n",
       "                      job_title  min_experience avg_salary min_salary  \\\n",
       "893       Senior Data Scientist               4      39.7L       6.0L   \n",
       "1442       Senior Data Engineer               6      68.3L      20.0L   \n",
       "666               Data Engineer               3      45.3L      16.5L   \n",
       "919       Senior Data Scientist               3      44.4L      11.6L   \n",
       "1462       Senior Data Engineer               7      66.3L      34.5L   \n",
       "...                         ...             ...        ...        ...   \n",
       "213            Business Analyst               1       5.5L       3.4L   \n",
       "342            Business Analyst               2       7.0L       5.0L   \n",
       "624               Data Engineer               0       5.5L       4.5L   \n",
       "1329       Senior Data Engineer               2       6.7L       5.8L   \n",
       "1528  Machine Learning Engineer               1       6.1L       2.3L   \n",
       "\n",
       "     max_salary  num_of_salaries  \n",
       "893       97.0L                5  \n",
       "1442      94.0L                5  \n",
       "666       93.5L               16  \n",
       "919       93.0L                5  \n",
       "1462      93.0L                5  \n",
       "...         ...              ...  \n",
       "213       10.0L              243  \n",
       "342       10.0L               43  \n",
       "624       10.0L               23  \n",
       "1329      10.0L               36  \n",
       "1528      10.0L                5  \n",
       "\n",
       "[1602 rows x 7 columns]"
      ]
     },
     "execution_count": 108,
     "metadata": {},
     "output_type": "execute_result"
    }
   ],
   "source": [
    "#viewing the data set\n",
    "data=pd.read_csv('Data_Science_Jobs_in_India.csv')\n",
    "data=data.drop('Unnamed: 0',axis=1)\n",
    "data=data.sort_values(['max_salary'],ascending=[False])\n",
    "data"
   ]
  },
  {
   "cell_type": "code",
   "execution_count": 188,
   "id": "dabe0c57",
   "metadata": {},
   "outputs": [
    {
     "data": {
      "text/html": [
       "<div>\n",
       "<style scoped>\n",
       "    .dataframe tbody tr th:only-of-type {\n",
       "        vertical-align: middle;\n",
       "    }\n",
       "\n",
       "    .dataframe tbody tr th {\n",
       "        vertical-align: top;\n",
       "    }\n",
       "\n",
       "    .dataframe thead th {\n",
       "        text-align: right;\n",
       "    }\n",
       "</style>\n",
       "<table border=\"1\" class=\"dataframe\">\n",
       "  <thead>\n",
       "    <tr style=\"text-align: right;\">\n",
       "      <th></th>\n",
       "      <th>min_experience</th>\n",
       "      <th>num_of_salaries</th>\n",
       "    </tr>\n",
       "  </thead>\n",
       "  <tbody>\n",
       "    <tr>\n",
       "      <th>count</th>\n",
       "      <td>1602.000000</td>\n",
       "      <td>1602.000000</td>\n",
       "    </tr>\n",
       "    <tr>\n",
       "      <th>mean</th>\n",
       "      <td>2.799001</td>\n",
       "      <td>58.055556</td>\n",
       "    </tr>\n",
       "    <tr>\n",
       "      <th>std</th>\n",
       "      <td>2.353686</td>\n",
       "      <td>169.042138</td>\n",
       "    </tr>\n",
       "    <tr>\n",
       "      <th>min</th>\n",
       "      <td>0.000000</td>\n",
       "      <td>3.000000</td>\n",
       "    </tr>\n",
       "    <tr>\n",
       "      <th>25%</th>\n",
       "      <td>1.000000</td>\n",
       "      <td>9.250000</td>\n",
       "    </tr>\n",
       "    <tr>\n",
       "      <th>50%</th>\n",
       "      <td>2.000000</td>\n",
       "      <td>22.000000</td>\n",
       "    </tr>\n",
       "    <tr>\n",
       "      <th>75%</th>\n",
       "      <td>4.000000</td>\n",
       "      <td>47.000000</td>\n",
       "    </tr>\n",
       "    <tr>\n",
       "      <th>max</th>\n",
       "      <td>21.000000</td>\n",
       "      <td>4200.000000</td>\n",
       "    </tr>\n",
       "  </tbody>\n",
       "</table>\n",
       "</div>"
      ],
      "text/plain": [
       "       min_experience  num_of_salaries\n",
       "count     1602.000000      1602.000000\n",
       "mean         2.799001        58.055556\n",
       "std          2.353686       169.042138\n",
       "min          0.000000         3.000000\n",
       "25%          1.000000         9.250000\n",
       "50%          2.000000        22.000000\n",
       "75%          4.000000        47.000000\n",
       "max         21.000000      4200.000000"
      ]
     },
     "execution_count": 188,
     "metadata": {},
     "output_type": "execute_result"
    }
   ],
   "source": [
    "#understanding the given data\n",
    "data.describe()"
   ]
  },
  {
   "cell_type": "code",
   "execution_count": 115,
   "id": "4c042eb3",
   "metadata": {
    "scrolled": true
   },
   "outputs": [
    {
     "name": "stdout",
     "output_type": "stream",
     "text": [
      "<class 'pandas.core.frame.DataFrame'>\n",
      "Int64Index: 1602 entries, 893 to 1528\n",
      "Data columns (total 7 columns):\n",
      " #   Column           Non-Null Count  Dtype \n",
      "---  ------           --------------  ----- \n",
      " 0   company_name     1602 non-null   object\n",
      " 1   job_title        1602 non-null   object\n",
      " 2   min_experience   1602 non-null   int64 \n",
      " 3   avg_salary       1602 non-null   object\n",
      " 4   min_salary       1602 non-null   object\n",
      " 5   max_salary       1602 non-null   object\n",
      " 6   num_of_salaries  1602 non-null   int64 \n",
      "dtypes: int64(2), object(5)\n",
      "memory usage: 100.1+ KB\n"
     ]
    }
   ],
   "source": [
    "#checking further details about given dataset\n",
    "data.info()"
   ]
  },
  {
   "cell_type": "code",
   "execution_count": 95,
   "id": "519fa2dd",
   "metadata": {},
   "outputs": [
    {
     "data": {
      "text/plain": [
       "642"
      ]
     },
     "execution_count": 95,
     "metadata": {},
     "output_type": "execute_result"
    }
   ],
   "source": [
    "#identifying the number of unique Company Names\n",
    "len(data['company_name'].drop_duplicates())"
   ]
  },
  {
   "cell_type": "code",
   "execution_count": 98,
   "id": "e7aca80c",
   "metadata": {},
   "outputs": [
    {
     "data": {
      "text/plain": [
       "329              Business Analyst\n",
       "402                  Data Analyst\n",
       "1585               Data Architect\n",
       "666                 Data Engineer\n",
       "123                Data Scientist\n",
       "1493    Machine Learning Engineer\n",
       "1076      Senior Business Analyst\n",
       "1222          Senior Data Analyst\n",
       "1442         Senior Data Engineer\n",
       "893         Senior Data Scientist\n",
       "Name: job_title, dtype: object"
      ]
     },
     "execution_count": 98,
     "metadata": {},
     "output_type": "execute_result"
    }
   ],
   "source": [
    "#identifying the unique job roles in Data Science\n",
    "data['job_title'].drop_duplicates().sort_values(ascending=True)"
   ]
  },
  {
   "cell_type": "code",
   "execution_count": 99,
   "id": "a3dff3e6",
   "metadata": {},
   "outputs": [
    {
     "data": {
      "text/plain": [
       "10"
      ]
     },
     "execution_count": 99,
     "metadata": {},
     "output_type": "execute_result"
    }
   ],
   "source": [
    "#identifying the number of unique job roles in Data Science\n",
    "len(data['job_title'].drop_duplicates())"
   ]
  },
  {
   "cell_type": "code",
   "execution_count": 100,
   "id": "c560e076",
   "metadata": {},
   "outputs": [
    {
     "data": {
      "text/plain": [
       "1     358\n",
       "2     356\n",
       "3     233\n",
       "4     191\n",
       "0     170\n",
       "5     125\n",
       "6      55\n",
       "7      48\n",
       "8      27\n",
       "9      10\n",
       "10     10\n",
       "13      5\n",
       "12      4\n",
       "14      4\n",
       "11      3\n",
       "21      1\n",
       "16      1\n",
       "15      1\n",
       "Name: min_experience, dtype: int64"
      ]
     },
     "execution_count": 100,
     "metadata": {},
     "output_type": "execute_result"
    }
   ],
   "source": [
    "#identifying the number of employees with different years of experience\n",
    "b1=data['min_experience'].value_counts().sort_values(ascending=False)\n",
    "b1"
   ]
  },
  {
   "cell_type": "code",
   "execution_count": 186,
   "id": "1997738c",
   "metadata": {},
   "outputs": [
    {
     "data": {
      "image/png": "[encoded data removed]",
      "text/plain": [
       "<Figure size 432x288 with 1 Axes>"
      ]
     },
     "metadata": {
      "needs_background": "light"
     },
     "output_type": "display_data"
    }
   ],
   "source": [
    "#there are much MORE employees with 1 & 2 years of experiences\n",
    "plt.bar(b1.keys(),b1,width=0.8,color='Green')\n",
    "plt.xlabel('Experience', labelpad=10)\n",
    "plt.ylabel('No. of Employees',labelpad=10)\n",
    "plt.show()"
   ]
  },
  {
   "cell_type": "code",
   "execution_count": 226,
   "id": "302c7041",
   "metadata": {},
   "outputs": [
    {
     "data": {
      "text/html": [
       "<div>\n",
       "<style scoped>\n",
       "    .dataframe tbody tr th:only-of-type {\n",
       "        vertical-align: middle;\n",
       "    }\n",
       "\n",
       "    .dataframe tbody tr th {\n",
       "        vertical-align: top;\n",
       "    }\n",
       "\n",
       "    .dataframe thead th {\n",
       "        text-align: right;\n",
       "    }\n",
       "</style>\n",
       "<table border=\"1\" class=\"dataframe\">\n",
       "  <thead>\n",
       "    <tr style=\"text-align: right;\">\n",
       "      <th></th>\n",
       "      <th>company_name</th>\n",
       "      <th>job_title</th>\n",
       "      <th>min_salary</th>\n",
       "      <th>max_salary</th>\n",
       "      <th>avg_salary</th>\n",
       "      <th>min_experience</th>\n",
       "    </tr>\n",
       "  </thead>\n",
       "  <tbody>\n",
       "    <tr>\n",
       "      <th>576</th>\n",
       "      <td>Mindtree</td>\n",
       "      <td>Data Engineer</td>\n",
       "      <td>3.9L</td>\n",
       "      <td>9.9L</td>\n",
       "      <td>6.0L</td>\n",
       "      <td>1</td>\n",
       "    </tr>\n",
       "    <tr>\n",
       "      <th>1222</th>\n",
       "      <td>Denave</td>\n",
       "      <td>Senior Data Analyst</td>\n",
       "      <td>3.5L</td>\n",
       "      <td>9.8L</td>\n",
       "      <td>6.7L</td>\n",
       "      <td>2</td>\n",
       "    </tr>\n",
       "    <tr>\n",
       "      <th>329</th>\n",
       "      <td>Aon</td>\n",
       "      <td>Business Analyst</td>\n",
       "      <td>3.5L</td>\n",
       "      <td>9.6L</td>\n",
       "      <td>5.4L</td>\n",
       "      <td>2</td>\n",
       "    </tr>\n",
       "    <tr>\n",
       "      <th>402</th>\n",
       "      <td>Mindtree</td>\n",
       "      <td>Data Analyst</td>\n",
       "      <td>4.0L</td>\n",
       "      <td>9.6L</td>\n",
       "      <td>5.6L</td>\n",
       "      <td>1</td>\n",
       "    </tr>\n",
       "    <tr>\n",
       "      <th>448</th>\n",
       "      <td>Mphasis</td>\n",
       "      <td>Data Analyst</td>\n",
       "      <td>2.1L</td>\n",
       "      <td>9.5L</td>\n",
       "      <td>5.1L</td>\n",
       "      <td>1</td>\n",
       "    </tr>\n",
       "    <tr>\n",
       "      <th>368</th>\n",
       "      <td>Simplify Healthcare</td>\n",
       "      <td>Business Analyst</td>\n",
       "      <td>4.0L</td>\n",
       "      <td>9.5L</td>\n",
       "      <td>5.8L</td>\n",
       "      <td>1</td>\n",
       "    </tr>\n",
       "    <tr>\n",
       "      <th>1303</th>\n",
       "      <td>Ninjacart</td>\n",
       "      <td>Senior Data Analyst</td>\n",
       "      <td>6.0L</td>\n",
       "      <td>9.5L</td>\n",
       "      <td>6.7L</td>\n",
       "      <td>2</td>\n",
       "    </tr>\n",
       "    <tr>\n",
       "      <th>385</th>\n",
       "      <td>HCL Technologies</td>\n",
       "      <td>Data Analyst</td>\n",
       "      <td>2.4L</td>\n",
       "      <td>9.5L</td>\n",
       "      <td>4.5L</td>\n",
       "      <td>1</td>\n",
       "    </tr>\n",
       "    <tr>\n",
       "      <th>1207</th>\n",
       "      <td>Nielsen</td>\n",
       "      <td>Senior Data Analyst</td>\n",
       "      <td>3.1L</td>\n",
       "      <td>9.5L</td>\n",
       "      <td>5.9L</td>\n",
       "      <td>2</td>\n",
       "    </tr>\n",
       "    <tr>\n",
       "      <th>281</th>\n",
       "      <td>ValueMomentum</td>\n",
       "      <td>Business Analyst</td>\n",
       "      <td>3.8L</td>\n",
       "      <td>9.5L</td>\n",
       "      <td>6.1L</td>\n",
       "      <td>1</td>\n",
       "    </tr>\n",
       "    <tr>\n",
       "      <th>456</th>\n",
       "      <td>IHS Markit</td>\n",
       "      <td>Data Analyst</td>\n",
       "      <td>3.5L</td>\n",
       "      <td>9.5L</td>\n",
       "      <td>5.8L</td>\n",
       "      <td>1</td>\n",
       "    </tr>\n",
       "    <tr>\n",
       "      <th>215</th>\n",
       "      <td>Conduent</td>\n",
       "      <td>Business Analyst</td>\n",
       "      <td>4.0L</td>\n",
       "      <td>9.4L</td>\n",
       "      <td>6.1L</td>\n",
       "      <td>2</td>\n",
       "    </tr>\n",
       "    <tr>\n",
       "      <th>364</th>\n",
       "      <td>Ameriprise Financial</td>\n",
       "      <td>Business Analyst</td>\n",
       "      <td>3.9L</td>\n",
       "      <td>9.3L</td>\n",
       "      <td>5.9L</td>\n",
       "      <td>1</td>\n",
       "    </tr>\n",
       "    <tr>\n",
       "      <th>1493</th>\n",
       "      <td>TCS</td>\n",
       "      <td>Machine Learning Engineer</td>\n",
       "      <td>4.0L</td>\n",
       "      <td>9.3L</td>\n",
       "      <td>5.8L</td>\n",
       "      <td>1</td>\n",
       "    </tr>\n",
       "    <tr>\n",
       "      <th>305</th>\n",
       "      <td>eClerx</td>\n",
       "      <td>Business Analyst</td>\n",
       "      <td>2.3L</td>\n",
       "      <td>9.3L</td>\n",
       "      <td>3.7L</td>\n",
       "      <td>1</td>\n",
       "    </tr>\n",
       "    <tr>\n",
       "      <th>363</th>\n",
       "      <td>Tata Communications</td>\n",
       "      <td>Business Analyst</td>\n",
       "      <td>2.9L</td>\n",
       "      <td>9.2L</td>\n",
       "      <td>5.0L</td>\n",
       "      <td>1</td>\n",
       "    </tr>\n",
       "    <tr>\n",
       "      <th>639</th>\n",
       "      <td>Lumen Technologies</td>\n",
       "      <td>Data Engineer</td>\n",
       "      <td>4.5L</td>\n",
       "      <td>9.2L</td>\n",
       "      <td>6.6L</td>\n",
       "      <td>1</td>\n",
       "    </tr>\n",
       "    <tr>\n",
       "      <th>503</th>\n",
       "      <td>JLL</td>\n",
       "      <td>Data Analyst</td>\n",
       "      <td>3.5L</td>\n",
       "      <td>9.2L</td>\n",
       "      <td>5.4L</td>\n",
       "      <td>1</td>\n",
       "    </tr>\n",
       "    <tr>\n",
       "      <th>413</th>\n",
       "      <td>EXL Service</td>\n",
       "      <td>Data Analyst</td>\n",
       "      <td>2.2L</td>\n",
       "      <td>9.1L</td>\n",
       "      <td>5.0L</td>\n",
       "      <td>1</td>\n",
       "    </tr>\n",
       "    <tr>\n",
       "      <th>1513</th>\n",
       "      <td>UST</td>\n",
       "      <td>Machine Learning Engineer</td>\n",
       "      <td>5.0L</td>\n",
       "      <td>9.0L</td>\n",
       "      <td>6.7L</td>\n",
       "      <td>2</td>\n",
       "    </tr>\n",
       "  </tbody>\n",
       "</table>\n",
       "</div>"
      ],
      "text/plain": [
       "              company_name                  job_title min_salary max_salary  \\\n",
       "576               Mindtree              Data Engineer       3.9L       9.9L   \n",
       "1222                Denave        Senior Data Analyst       3.5L       9.8L   \n",
       "329                    Aon           Business Analyst       3.5L       9.6L   \n",
       "402               Mindtree               Data Analyst       4.0L       9.6L   \n",
       "448                Mphasis               Data Analyst       2.1L       9.5L   \n",
       "368    Simplify Healthcare           Business Analyst       4.0L       9.5L   \n",
       "1303             Ninjacart        Senior Data Analyst       6.0L       9.5L   \n",
       "385       HCL Technologies               Data Analyst       2.4L       9.5L   \n",
       "1207               Nielsen        Senior Data Analyst       3.1L       9.5L   \n",
       "281          ValueMomentum           Business Analyst       3.8L       9.5L   \n",
       "456             IHS Markit               Data Analyst       3.5L       9.5L   \n",
       "215               Conduent           Business Analyst       4.0L       9.4L   \n",
       "364   Ameriprise Financial           Business Analyst       3.9L       9.3L   \n",
       "1493                   TCS  Machine Learning Engineer       4.0L       9.3L   \n",
       "305                 eClerx           Business Analyst       2.3L       9.3L   \n",
       "363    Tata Communications           Business Analyst       2.9L       9.2L   \n",
       "639     Lumen Technologies              Data Engineer       4.5L       9.2L   \n",
       "503                    JLL               Data Analyst       3.5L       9.2L   \n",
       "413            EXL Service               Data Analyst       2.2L       9.1L   \n",
       "1513                   UST  Machine Learning Engineer       5.0L       9.0L   \n",
       "\n",
       "     avg_salary  min_experience  \n",
       "576        6.0L               1  \n",
       "1222       6.7L               2  \n",
       "329        5.4L               2  \n",
       "402        5.6L               1  \n",
       "448        5.1L               1  \n",
       "368        5.8L               1  \n",
       "1303       6.7L               2  \n",
       "385        4.5L               1  \n",
       "1207       5.9L               2  \n",
       "281        6.1L               1  \n",
       "456        5.8L               1  \n",
       "215        6.1L               2  \n",
       "364        5.9L               1  \n",
       "1493       5.8L               1  \n",
       "305        3.7L               1  \n",
       "363        5.0L               1  \n",
       "639        6.6L               1  \n",
       "503        5.4L               1  \n",
       "413        5.0L               1  \n",
       "1513       6.7L               2  "
      ]
     },
     "execution_count": 226,
     "metadata": {},
     "output_type": "execute_result"
    }
   ],
   "source": [
    "#top 20 values where the experience is 1 & 2 years\n",
    "d1=data[['company_name','job_title','min_salary','max_salary','avg_salary','min_experience']][(data['min_experience']==1) | \n",
    "                                                                               (data['min_experience']==2) ].head(20)\n",
    "d1"
   ]
  },
  {
   "cell_type": "code",
   "execution_count": 198,
   "id": "90e7d920",
   "metadata": {},
   "outputs": [
    {
     "data": {
      "text/plain": [
       "576                 Data Engineer\n",
       "1222          Senior Data Analyst\n",
       "329              Business Analyst\n",
       "402                  Data Analyst\n",
       "1493    Machine Learning Engineer\n",
       "Name: job_title, dtype: object"
      ]
     },
     "execution_count": 198,
     "metadata": {},
     "output_type": "execute_result"
    }
   ],
   "source": [
    "#unique job roles when the experience is 1 and 2 years in top 20\n",
    "d2=d1['job_title'].drop_duplicates()\n",
    "d2"
   ]
  },
  {
   "cell_type": "code",
   "execution_count": 199,
   "id": "3ae624c6",
   "metadata": {},
   "outputs": [
    {
     "data": {
      "text/plain": [
       "Business Analyst             7\n",
       "Data Analyst                 6\n",
       "Senior Data Analyst          3\n",
       "Data Engineer                2\n",
       "Machine Learning Engineer    2\n",
       "Name: job_title, dtype: int64"
      ]
     },
     "execution_count": 199,
     "metadata": {},
     "output_type": "execute_result"
    }
   ],
   "source": [
    "#no. of employees\n",
    "d3=d1['job_title'].value_counts()\n",
    "d3"
   ]
  },
  {
   "cell_type": "code",
   "execution_count": 200,
   "id": "31696b4e",
   "metadata": {},
   "outputs": [
    {
     "data": {
      "image/png": "[encoded data removed]",
      "text/plain": [
       "<Figure size 576x432 with 1 Axes>"
      ]
     },
     "metadata": {},
     "output_type": "display_data"
    }
   ],
   "source": [
    "#percentage of employees in different roles in top 20\n",
    "plt.figure(figsize=(8,6))\n",
    "plt.pie(d3,labels=d3.keys(),autopct='%0.1f%%',colors=['Pink','Green','Blue','Yellow','Red'])\n",
    "plt.show()"
   ]
  },
  {
   "cell_type": "code",
   "execution_count": 201,
   "id": "ea27daf3",
   "metadata": {},
   "outputs": [
    {
     "data": {
      "text/plain": [
       "max_salary    9.6L\n",
       "avg_salary    5.8L\n",
       "min_salary    4.0L\n",
       "dtype: object"
      ]
     },
     "execution_count": 201,
     "metadata": {},
     "output_type": "execute_result"
    }
   ],
   "source": [
    "#salary details for top 20 when the job title is Data Analyst\n",
    "d1[['max_salary','avg_salary','min_salary']][d1['job_title']=='Data Analyst'].max()"
   ]
  },
  {
   "cell_type": "code",
   "execution_count": 202,
   "id": "4be2619a",
   "metadata": {},
   "outputs": [
    {
     "data": {
      "text/plain": [
       "max_salary    9.8L\n",
       "avg_salary    6.7L\n",
       "min_salary    6.0L\n",
       "dtype: object"
      ]
     },
     "execution_count": 202,
     "metadata": {},
     "output_type": "execute_result"
    }
   ],
   "source": [
    "#salary details for top 20 when the job title is Senior Data Analyst\n",
    "d1[['max_salary','avg_salary','min_salary']][d1['job_title']=='Senior Data Analyst'].max()"
   ]
  },
  {
   "cell_type": "code",
   "execution_count": 203,
   "id": "6dbe949f",
   "metadata": {},
   "outputs": [
    {
     "data": {
      "text/plain": [
       "max_salary    9.9L\n",
       "avg_salary    6.6L\n",
       "min_salary    4.5L\n",
       "dtype: object"
      ]
     },
     "execution_count": 203,
     "metadata": {},
     "output_type": "execute_result"
    }
   ],
   "source": [
    "#salary details for top 20 when the job title is Data Engineer\n",
    "d1[['max_salary','avg_salary','min_salary']][d1['job_title']=='Data Engineer'].max()"
   ]
  },
  {
   "cell_type": "code",
   "execution_count": 204,
   "id": "8ad82e77",
   "metadata": {},
   "outputs": [
    {
     "data": {
      "text/plain": [
       "max_salary    9.3L\n",
       "avg_salary    6.7L\n",
       "min_salary    5.0L\n",
       "dtype: object"
      ]
     },
     "execution_count": 204,
     "metadata": {},
     "output_type": "execute_result"
    }
   ],
   "source": [
    "#salary details for top 20 when the job title is Machine Learning Engineer\n",
    "d1[['max_salary','avg_salary','min_salary']][d1['job_title']=='Machine Learning Engineer'].max()"
   ]
  },
  {
   "cell_type": "code",
   "execution_count": 205,
   "id": "4f83ae22",
   "metadata": {},
   "outputs": [
    {
     "data": {
      "text/plain": [
       "max_salary    9.6L\n",
       "avg_salary    6.1L\n",
       "min_salary    4.0L\n",
       "dtype: object"
      ]
     },
     "execution_count": 205,
     "metadata": {},
     "output_type": "execute_result"
    }
   ],
   "source": [
    "#salary details for top 20 when the job title is Business Analyst\n",
    "d1[['max_salary','avg_salary','min_salary']][d1['job_title']=='Business Analyst'].max()"
   ]
  },
  {
   "cell_type": "code",
   "execution_count": 227,
   "id": "844dce88",
   "metadata": {},
   "outputs": [
    {
     "data": {
      "text/html": [
       "<div>\n",
       "<style scoped>\n",
       "    .dataframe tbody tr th:only-of-type {\n",
       "        vertical-align: middle;\n",
       "    }\n",
       "\n",
       "    .dataframe tbody tr th {\n",
       "        vertical-align: top;\n",
       "    }\n",
       "\n",
       "    .dataframe thead th {\n",
       "        text-align: right;\n",
       "    }\n",
       "</style>\n",
       "<table border=\"1\" class=\"dataframe\">\n",
       "  <thead>\n",
       "    <tr style=\"text-align: right;\">\n",
       "      <th></th>\n",
       "      <th>company_name</th>\n",
       "      <th>job_title</th>\n",
       "      <th>min_salary</th>\n",
       "      <th>max_salary</th>\n",
       "      <th>avg_salary</th>\n",
       "      <th>min_experience</th>\n",
       "    </tr>\n",
       "  </thead>\n",
       "  <tbody>\n",
       "    <tr>\n",
       "      <th>1442</th>\n",
       "      <td>Emirates Airlines</td>\n",
       "      <td>Senior Data Engineer</td>\n",
       "      <td>20.0L</td>\n",
       "      <td>94.0L</td>\n",
       "      <td>68.3L</td>\n",
       "      <td>6</td>\n",
       "    </tr>\n",
       "    <tr>\n",
       "      <th>1462</th>\n",
       "      <td>Uber</td>\n",
       "      <td>Senior Data Engineer</td>\n",
       "      <td>34.5L</td>\n",
       "      <td>93.0L</td>\n",
       "      <td>66.3L</td>\n",
       "      <td>7</td>\n",
       "    </tr>\n",
       "    <tr>\n",
       "      <th>1585</th>\n",
       "      <td>Fidelity International</td>\n",
       "      <td>Data Architect</td>\n",
       "      <td>23.4L</td>\n",
       "      <td>93.0L</td>\n",
       "      <td>50.6L</td>\n",
       "      <td>8</td>\n",
       "    </tr>\n",
       "    <tr>\n",
       "      <th>1233</th>\n",
       "      <td>Experis IT</td>\n",
       "      <td>Senior Data Analyst</td>\n",
       "      <td>6.6L</td>\n",
       "      <td>9.8L</td>\n",
       "      <td>8.2L</td>\n",
       "      <td>5</td>\n",
       "    </tr>\n",
       "    <tr>\n",
       "      <th>1056</th>\n",
       "      <td>CES</td>\n",
       "      <td>Senior Business Analyst</td>\n",
       "      <td>5.2L</td>\n",
       "      <td>9.5L</td>\n",
       "      <td>7.4L</td>\n",
       "      <td>5</td>\n",
       "    </tr>\n",
       "    <tr>\n",
       "      <th>1212</th>\n",
       "      <td>S&amp;P Global Market Intelligence</td>\n",
       "      <td>Senior Data Analyst</td>\n",
       "      <td>4.9L</td>\n",
       "      <td>9.5L</td>\n",
       "      <td>6.9L</td>\n",
       "      <td>5</td>\n",
       "    </tr>\n",
       "    <tr>\n",
       "      <th>1418</th>\n",
       "      <td>Renault Nissan Technology &amp; Business Centre India</td>\n",
       "      <td>Senior Data Engineer</td>\n",
       "      <td>7.7L</td>\n",
       "      <td>9.1L</td>\n",
       "      <td>8.2L</td>\n",
       "      <td>5</td>\n",
       "    </tr>\n",
       "    <tr>\n",
       "      <th>1300</th>\n",
       "      <td>MResult Services</td>\n",
       "      <td>Senior Data Analyst</td>\n",
       "      <td>7.0L</td>\n",
       "      <td>9.0L</td>\n",
       "      <td>8.4L</td>\n",
       "      <td>5</td>\n",
       "    </tr>\n",
       "    <tr>\n",
       "      <th>1302</th>\n",
       "      <td>Williams Lea Tag</td>\n",
       "      <td>Senior Data Analyst</td>\n",
       "      <td>5.0L</td>\n",
       "      <td>9.0L</td>\n",
       "      <td>6.6L</td>\n",
       "      <td>5</td>\n",
       "    </tr>\n",
       "    <tr>\n",
       "      <th>1205</th>\n",
       "      <td>E2OPEN</td>\n",
       "      <td>Senior Data Analyst</td>\n",
       "      <td>4.9L</td>\n",
       "      <td>8.3L</td>\n",
       "      <td>6.1L</td>\n",
       "      <td>5</td>\n",
       "    </tr>\n",
       "    <tr>\n",
       "      <th>759</th>\n",
       "      <td>Amazon</td>\n",
       "      <td>Senior Data Scientist</td>\n",
       "      <td>26.0L</td>\n",
       "      <td>75.0L</td>\n",
       "      <td>41.5L</td>\n",
       "      <td>5</td>\n",
       "    </tr>\n",
       "    <tr>\n",
       "      <th>1253</th>\n",
       "      <td>Yash Technologies</td>\n",
       "      <td>Senior Data Analyst</td>\n",
       "      <td>4.6L</td>\n",
       "      <td>7.5L</td>\n",
       "      <td>5.8L</td>\n",
       "      <td>7</td>\n",
       "    </tr>\n",
       "    <tr>\n",
       "      <th>758</th>\n",
       "      <td>Walmart</td>\n",
       "      <td>Senior Data Scientist</td>\n",
       "      <td>30.0L</td>\n",
       "      <td>65.0L</td>\n",
       "      <td>43.0L</td>\n",
       "      <td>5</td>\n",
       "    </tr>\n",
       "    <tr>\n",
       "      <th>1307</th>\n",
       "      <td>Athenahealth Technology</td>\n",
       "      <td>Senior Data Analyst</td>\n",
       "      <td>5.6L</td>\n",
       "      <td>6.6L</td>\n",
       "      <td>6.1L</td>\n",
       "      <td>6</td>\n",
       "    </tr>\n",
       "    <tr>\n",
       "      <th>1371</th>\n",
       "      <td>Oracle</td>\n",
       "      <td>Senior Data Engineer</td>\n",
       "      <td>15.0L</td>\n",
       "      <td>51.0L</td>\n",
       "      <td>29.2L</td>\n",
       "      <td>5</td>\n",
       "    </tr>\n",
       "    <tr>\n",
       "      <th>820</th>\n",
       "      <td>Novartis Healthcare</td>\n",
       "      <td>Senior Data Scientist</td>\n",
       "      <td>16.0L</td>\n",
       "      <td>51.0L</td>\n",
       "      <td>30.5L</td>\n",
       "      <td>5</td>\n",
       "    </tr>\n",
       "    <tr>\n",
       "      <th>804</th>\n",
       "      <td>JP Morgan Chase</td>\n",
       "      <td>Senior Data Scientist</td>\n",
       "      <td>14.0L</td>\n",
       "      <td>51.0L</td>\n",
       "      <td>27.7L</td>\n",
       "      <td>5</td>\n",
       "    </tr>\n",
       "    <tr>\n",
       "      <th>875</th>\n",
       "      <td>SAP</td>\n",
       "      <td>Senior Data Scientist</td>\n",
       "      <td>17.2L</td>\n",
       "      <td>51.0L</td>\n",
       "      <td>36.6L</td>\n",
       "      <td>7</td>\n",
       "    </tr>\n",
       "    <tr>\n",
       "      <th>769</th>\n",
       "      <td>Ericsson</td>\n",
       "      <td>Senior Data Scientist</td>\n",
       "      <td>14.2L</td>\n",
       "      <td>50.6L</td>\n",
       "      <td>30.2L</td>\n",
       "      <td>7</td>\n",
       "    </tr>\n",
       "    <tr>\n",
       "      <th>927</th>\n",
       "      <td>Adobe</td>\n",
       "      <td>Senior Data Scientist</td>\n",
       "      <td>30.0L</td>\n",
       "      <td>50.0L</td>\n",
       "      <td>40.0L</td>\n",
       "      <td>8</td>\n",
       "    </tr>\n",
       "  </tbody>\n",
       "</table>\n",
       "</div>"
      ],
      "text/plain": [
       "                                           company_name  \\\n",
       "1442                                  Emirates Airlines   \n",
       "1462                                               Uber   \n",
       "1585                             Fidelity International   \n",
       "1233                                         Experis IT   \n",
       "1056                                                CES   \n",
       "1212                     S&P Global Market Intelligence   \n",
       "1418  Renault Nissan Technology & Business Centre India   \n",
       "1300                                   MResult Services   \n",
       "1302                                   Williams Lea Tag   \n",
       "1205                                             E2OPEN   \n",
       "759                                              Amazon   \n",
       "1253                                  Yash Technologies   \n",
       "758                                             Walmart   \n",
       "1307                            Athenahealth Technology   \n",
       "1371                                             Oracle   \n",
       "820                                 Novartis Healthcare   \n",
       "804                                     JP Morgan Chase   \n",
       "875                                                 SAP   \n",
       "769                                            Ericsson   \n",
       "927                                               Adobe   \n",
       "\n",
       "                    job_title min_salary max_salary avg_salary  min_experience  \n",
       "1442     Senior Data Engineer      20.0L      94.0L      68.3L               6  \n",
       "1462     Senior Data Engineer      34.5L      93.0L      66.3L               7  \n",
       "1585           Data Architect      23.4L      93.0L      50.6L               8  \n",
       "1233      Senior Data Analyst       6.6L       9.8L       8.2L               5  \n",
       "1056  Senior Business Analyst       5.2L       9.5L       7.4L               5  \n",
       "1212      Senior Data Analyst       4.9L       9.5L       6.9L               5  \n",
       "1418     Senior Data Engineer       7.7L       9.1L       8.2L               5  \n",
       "1300      Senior Data Analyst       7.0L       9.0L       8.4L               5  \n",
       "1302      Senior Data Analyst       5.0L       9.0L       6.6L               5  \n",
       "1205      Senior Data Analyst       4.9L       8.3L       6.1L               5  \n",
       "759     Senior Data Scientist      26.0L      75.0L      41.5L               5  \n",
       "1253      Senior Data Analyst       4.6L       7.5L       5.8L               7  \n",
       "758     Senior Data Scientist      30.0L      65.0L      43.0L               5  \n",
       "1307      Senior Data Analyst       5.6L       6.6L       6.1L               6  \n",
       "1371     Senior Data Engineer      15.0L      51.0L      29.2L               5  \n",
       "820     Senior Data Scientist      16.0L      51.0L      30.5L               5  \n",
       "804     Senior Data Scientist      14.0L      51.0L      27.7L               5  \n",
       "875     Senior Data Scientist      17.2L      51.0L      36.6L               7  \n",
       "769     Senior Data Scientist      14.2L      50.6L      30.2L               7  \n",
       "927     Senior Data Scientist      30.0L      50.0L      40.0L               8  "
      ]
     },
     "execution_count": 227,
     "metadata": {},
     "output_type": "execute_result"
    }
   ],
   "source": [
    "#top 20 values where the experience is 5 to 10 years\n",
    "\n",
    "n1=data[['company_name','job_title','min_salary','max_salary','avg_salary','min_experience']][(data['min_experience']==5) | \n",
    "                                                              (data['min_experience']==6) |\n",
    "                                                              (data['min_experience']==7) |\n",
    "                                                              (data['min_experience']==8) |\n",
    "                                                              (data['min_experience']==9) |\n",
    "                                                              (data['min_experience']==10)\n",
    "                                                             ].head(20)\n",
    "n1"
   ]
  },
  {
   "cell_type": "code",
   "execution_count": 209,
   "id": "a87bd25f",
   "metadata": {},
   "outputs": [
    {
     "data": {
      "text/plain": [
       "1442       Senior Data Engineer\n",
       "1585             Data Architect\n",
       "1233        Senior Data Analyst\n",
       "1056    Senior Business Analyst\n",
       "759       Senior Data Scientist\n",
       "Name: job_title, dtype: object"
      ]
     },
     "execution_count": 209,
     "metadata": {},
     "output_type": "execute_result"
    }
   ],
   "source": [
    "#unique job profiles in top 20\n",
    "n1['job_title'].drop_duplicates()"
   ]
  },
  {
   "cell_type": "code",
   "execution_count": 212,
   "id": "aec9d2ab",
   "metadata": {},
   "outputs": [
    {
     "data": {
      "text/plain": [
       "Senior Data Analyst        7\n",
       "Senior Data Scientist      7\n",
       "Senior Data Engineer       4\n",
       "Data Architect             1\n",
       "Senior Business Analyst    1\n",
       "Name: job_title, dtype: int64"
      ]
     },
     "execution_count": 212,
     "metadata": {},
     "output_type": "execute_result"
    }
   ],
   "source": [
    "#counting number of employees in each job profile\n",
    "n2=n1['job_title'].value_counts()\n",
    "n2"
   ]
  },
  {
   "cell_type": "code",
   "execution_count": 213,
   "id": "45391fea",
   "metadata": {
    "scrolled": true
   },
   "outputs": [
    {
     "data": {
      "image/png": "[encoded data removed]",
      "text/plain": [
       "<Figure size 576x432 with 1 Axes>"
      ]
     },
     "metadata": {},
     "output_type": "display_data"
    }
   ],
   "source": [
    "#percentage of employees in different roles in top 20\n",
    "plt.figure(figsize=(8,6))\n",
    "plt.pie(n2,labels=n2.keys(),autopct='%0.1f%%',colors=['Pink','Green','Blue','Yellow','Red'])\n",
    "plt.show()"
   ]
  },
  {
   "cell_type": "code",
   "execution_count": 220,
   "id": "796cf275",
   "metadata": {},
   "outputs": [
    {
     "data": {
      "text/plain": [
       "max_salary    9.8L\n",
       "avg_salary    8.4L\n",
       "min_salary    7.0L\n",
       "dtype: object"
      ]
     },
     "execution_count": 220,
     "metadata": {},
     "output_type": "execute_result"
    }
   ],
   "source": [
    "#salary details for top 20 when the job title is Senior Data Analyst\n",
    "n1[['max_salary','avg_salary','min_salary']][n1['job_title']=='Senior Data Analyst'].max()"
   ]
  },
  {
   "cell_type": "code",
   "execution_count": 221,
   "id": "c7134f44",
   "metadata": {
    "scrolled": true
   },
   "outputs": [
    {
     "data": {
      "text/plain": [
       "max_salary    75.0L\n",
       "avg_salary    43.0L\n",
       "min_salary    30.0L\n",
       "dtype: object"
      ]
     },
     "execution_count": 221,
     "metadata": {},
     "output_type": "execute_result"
    }
   ],
   "source": [
    "#salary details for top 20 when the job title is Senior Data Scientist\n",
    "n1[['max_salary','avg_salary','min_salary']][n1['job_title']=='Senior Data Scientist'].max()"
   ]
  },
  {
   "cell_type": "code",
   "execution_count": 222,
   "id": "854e1d23",
   "metadata": {},
   "outputs": [
    {
     "data": {
      "text/plain": [
       "max_salary    94.0L\n",
       "avg_salary     8.2L\n",
       "min_salary     7.7L\n",
       "dtype: object"
      ]
     },
     "execution_count": 222,
     "metadata": {},
     "output_type": "execute_result"
    }
   ],
   "source": [
    "#salary details for top 20 when the job title is Senior Data Engineer\n",
    "n1[['max_salary','avg_salary','min_salary']][n1['job_title']=='Senior Data Engineer'].max()"
   ]
  },
  {
   "cell_type": "code",
   "execution_count": 224,
   "id": "7b6dfb55",
   "metadata": {},
   "outputs": [
    {
     "data": {
      "text/plain": [
       "max_salary    93.0L\n",
       "avg_salary    50.6L\n",
       "min_salary    23.4L\n",
       "dtype: object"
      ]
     },
     "execution_count": 224,
     "metadata": {},
     "output_type": "execute_result"
    }
   ],
   "source": [
    "#salary details for top 20 when the job title is Data Architecture\n",
    "n1[['max_salary','avg_salary','min_salary']][n1['job_title']=='Data Architect'].max()"
   ]
  },
  {
   "cell_type": "code",
   "execution_count": 225,
   "id": "305e89bd",
   "metadata": {
    "scrolled": true
   },
   "outputs": [
    {
     "data": {
      "text/plain": [
       "max_salary    9.5L\n",
       "avg_salary    7.4L\n",
       "min_salary    5.2L\n",
       "dtype: object"
      ]
     },
     "execution_count": 225,
     "metadata": {},
     "output_type": "execute_result"
    }
   ],
   "source": [
    "#salary details for top 20 when the job title is Senior Business Analyst\n",
    "n1[['max_salary','avg_salary','min_salary']][n1['job_title']=='Senior Business Analyst'].max()"
   ]
  },
  {
   "cell_type": "markdown",
   "id": "23137d02",
   "metadata": {},
   "source": [
    "# Conclusion when the experience is 1 or 2 years👆🏻\n",
    "\n",
    "**--> there are:**\n",
    "\n",
    "**1. total employees~ 1602**\n",
    "\n",
    "**2. total companies~ 642**\n",
    "\n",
    "\n",
    "\n",
    "\n",
    "1. Focusing on 1 or 2 years experienced employees as there are more employees in that vertical\n",
    "\n",
    "\n",
    "2. there are 35% are **Business Analysts**, 30% are **Data Analysts**, 15% are **Senior Data Analyst** and 10% each **Data Engineer** and **Machine Learning Engineer**\n",
    "\n",
    "\n",
    "2. from the top 20 values and different job profiles where the employee is having an experience of 1 or 2 years,\n",
    "we can say that, maximum salary is earned by **Data Engineer** is ***9.9L***\n",
    "\n",
    "\n",
    "\n",
    "3. While speaking about the gap, we can see that it is between ***30k to 90k*** for maximum salary \n",
    "and for minimum salary it is somewhere between ***1 to 2 lacs***."
   ]
  },
  {
   "cell_type": "markdown",
   "id": "a966e8ca",
   "metadata": {},
   "source": [
    "# Conclusion when the experience is between 5 to 10 years👆🏻\n",
    "\n",
    "1. Now focusing on **5 to 10 years** experienced employees\n",
    "\n",
    "\n",
    "2. there are 20% of **Senior Data Engineer** and 35% each are **Senior Data Analyst and Senior Data Scientist**. Rest 5% each are **Data Architect & Senior Business Analyst**\n",
    "\n",
    "\n",
    "3. from above for top 20 values and different job profiles where the employee is having an experience of 5 to 10 years, we can say that, maximum salary is earned by **Senior Data Engineer** which is **94 lacs**\n",
    "\n",
    "\n",
    "4. While speaking about the gap, we can see that there is a huge gap between the above mentioned job profiles namely **a) Senior Business Analyst, b) Senior Data Scientist, c) Senior Data Analyst**"
   ]
  }
 ],
 "metadata": {
  "kernelspec": {
   "display_name": "Python 3 (ipykernel)",
   "language": "python",
   "name": "python3"
  },
  "language_info": {
   "codemirror_mode": {
    "name": "ipython",
    "version": 3
   },
   "file_extension": ".py",
   "mimetype": "text/x-python",
   "name": "python",
   "nbconvert_exporter": "python",
   "pygments_lexer": "ipython3",
   "version": "3.9.12"
  }
 },
 "nbformat": 4,
 "nbformat_minor": 5
}
